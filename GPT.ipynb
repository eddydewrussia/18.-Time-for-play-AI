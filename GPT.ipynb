{
 "cells": [
  {
   "cell_type": "code",
   "execution_count": 3,
   "id": "43c049c7-250a-4f43-9006-e364d9b39ef2",
   "metadata": {},
   "outputs": [],
   "source": [
    "# Установка необходимых библиотек\n",
    "# !pip install numpy opencv-python-headless\n"
   ]
  },
  {
   "cell_type": "code",
   "execution_count": 4,
   "id": "cc635a79",
   "metadata": {},
   "outputs": [],
   "source": [
    "# !echo $CONDA_DEFAULT_ENV\n"
   ]
  },
  {
   "cell_type": "code",
   "execution_count": 5,
   "id": "70d4f867",
   "metadata": {},
   "outputs": [],
   "source": [
    "# import os\n",
    "# print(os.environ['CONDA_DEFAULT_ENV'])"
   ]
  },
  {
   "cell_type": "code",
   "execution_count": 6,
   "id": "8665e98f",
   "metadata": {},
   "outputs": [],
   "source": [
    "# Установка необходимых библиотек\n",
    "# !pip install  gdal\n"
   ]
  },
  {
   "cell_type": "code",
   "execution_count": 2,
   "id": "c4129991-0147-43c2-b3de-7fcb1e7dd0a6",
   "metadata": {},
   "outputs": [],
   "source": [
    "import os\n",
    "import cv2\n",
    "import numpy as np\n",
    "from osgeo import gdal, osr\n",
    "from osgeo import gdal\n",
    "import json"
   ]
  },
  {
   "cell_type": "code",
   "execution_count": 3,
   "id": "69a20fa2-b0ee-45d4-9d2a-4ee442432e63",
   "metadata": {},
   "outputs": [],
   "source": [
    "def read_image(file_path):\n",
    "    dataset = gdal.Open(file_path)\n",
    "    if not dataset:\n",
    "        raise FileNotFoundError(f\"File not found: {file_path}\")\n",
    "    image = dataset.ReadAsArray()\n",
    "    geo_transform = dataset.GetGeoTransform()\n",
    "    projection = dataset.GetProjection()\n",
    "    return image, geo_transform, projection\n",
    "\n",
    "# Указание путей к папкам\n",
    "source_folder = './1_20'  # Замените на реальный путь к папке 1_20\n",
    "target_folder = './layouts'  # Замените на реальный путь к папке layouts"
   ]
  },
  {
   "cell_type": "code",
   "execution_count": 9,
   "id": "e9229c06-3dc3-4c43-8224-cf282f2a2309",
   "metadata": {},
   "outputs": [],
   "source": [
    "# Чтение первого изображения из папки 1_20\n",
    "source_image_name = os.listdir(source_folder)[0]\n",
    "source_image_path = os.path.join(source_folder, source_image_name)\n",
    "source_image, source_geo_transform, source_projection = read_image(source_image_path)"
   ]
  },
  {
   "cell_type": "code",
   "execution_count": 10,
   "id": "cf0c6920-caa0-4cb8-9421-72871abd38a9",
   "metadata": {},
   "outputs": [
    {
     "name": "stdout",
     "output_type": "stream",
     "text": [
      "[[[ 631  619  708 ...  712  591  502]\n",
      "  [ 690  731  734 ...  731  753  633]\n",
      "  [ 712  754  711 ...  759  731  694]\n",
      "  ...\n",
      "  [ 654  674  513 ...  361  348  351]\n",
      "  [ 688  616  447 ...  378  337  353]\n",
      "  [ 773  663  397 ...  442  506  553]]\n",
      "\n",
      " [[ 842  821  948 ... 1035  846  704]\n",
      "  [ 917  977  976 ... 1050 1083  896]\n",
      "  [ 936 1000  937 ... 1092 1067 1011]\n",
      "  ...\n",
      "  [ 754  779  653 ...  347  342  330]\n",
      "  [ 793  758  634 ...  407  358  373]\n",
      "  [ 907  831  571 ...  611  655  718]]\n",
      "\n",
      " [[1250 1220 1388 ... 1409  990  707]\n",
      "  [1347 1429 1435 ... 1451 1503 1101]\n",
      "  [1251 1352 1264 ... 1520 1459 1351]\n",
      "  ...\n",
      "  [ 946  995  712 ...  389  389  384]\n",
      "  [1016  890  568 ...  465  392  411]\n",
      "  [1198 1004  469 ...  599  742  821]]\n",
      "\n",
      " [[2176 2103 2387 ... 2600 2660 2579]\n",
      "  [2248 2390 2416 ... 2583 2622 2625]\n",
      "  [2241 2350 2193 ... 2640 2673 2638]\n",
      "  ...\n",
      "  [1338 1281 2343 ...  472  483  435]\n",
      "  [1345 1815 2834 ...  809  712  685]\n",
      "  [1348 1860 2874 ... 2453 2000 2043]]]\n"
     ]
    }
   ],
   "source": [
    "print(source_image)"
   ]
  },
  {
   "cell_type": "code",
   "execution_count": 11,
   "id": "28426045-7722-4127-8927-c57cfb062429",
   "metadata": {},
   "outputs": [
    {
     "name": "stdout",
     "output_type": "stream",
     "text": [
      "(0.0, 0.1, 0.0, 0.0, 0.0, 0.1)\n"
     ]
    }
   ],
   "source": [
    "print(source_geo_transform)"
   ]
  },
  {
   "cell_type": "code",
   "execution_count": 12,
   "id": "10c19989-1d07-4b15-8af1-53a4412f59e3",
   "metadata": {},
   "outputs": [
    {
     "name": "stdout",
     "output_type": "stream",
     "text": [
      "GEOGCS[\"WGS 84\",DATUM[\"WGS_1984\",SPHEROID[\"WGS 84\",6378137,298.257223563,AUTHORITY[\"EPSG\",\"7030\"]],AUTHORITY[\"EPSG\",\"6326\"]],PRIMEM[\"Greenwich\",0,AUTHORITY[\"EPSG\",\"8901\"]],UNIT[\"degree\",0.0174532925199433,AUTHORITY[\"EPSG\",\"9122\"]],AXIS[\"Latitude\",NORTH],AXIS[\"Longitude\",EAST],AUTHORITY[\"EPSG\",\"4326\"]]\n"
     ]
    }
   ],
   "source": [
    "print(source_projection)"
   ]
  },
  {
   "cell_type": "code",
   "execution_count": 13,
   "id": "030870fc-bb05-4dd0-8fbc-4ed72c63be15",
   "metadata": {},
   "outputs": [],
   "source": [
    "# Чтение первого изображения из папки layouts\n",
    "target_image_name = os.listdir(target_folder)[0]\n",
    "target_image_path = os.path.join(target_folder, target_image_name)\n",
    "target_image, target_geo_transform, target_projection = read_image(target_image_path)"
   ]
  },
  {
   "cell_type": "code",
   "execution_count": 14,
   "id": "173a5d6a-0daa-4e5d-92bb-3f247ece909d",
   "metadata": {},
   "outputs": [
    {
     "data": {
      "text/plain": [
       "array([[[ 474,  491,  477, ..., 2684, 2740, 2812],\n",
       "        [ 523,  494,  454, ..., 2684, 2690, 2792],\n",
       "        [ 533,  472,  457, ..., 2714, 2720, 2810],\n",
       "        ...,\n",
       "        [ 473,  542,  552, ...,    0,    0,    0],\n",
       "        [ 438,  451,  461, ...,    0,    0,    0],\n",
       "        [ 428,  438,  433, ...,    0,    0,    0]],\n",
       "\n",
       "       [[ 779,  828,  836, ..., 2626, 2640, 2666],\n",
       "        [ 841,  821,  797, ..., 2730, 2732, 2722],\n",
       "        [ 816,  769,  754, ..., 2762, 2802, 2814],\n",
       "        ...,\n",
       "        [ 691,  705,  630, ...,    0,    0,    0],\n",
       "        [ 698,  717,  690, ...,    0,    0,    0],\n",
       "        [ 681,  665,  681, ...,    0,    0,    0]],\n",
       "\n",
       "       [[ 366,  396,  375, ..., 2556, 2542, 2500],\n",
       "        [ 379,  389,  355, ..., 2496, 2464, 2486],\n",
       "        [ 412,  355,  363, ..., 2456, 2422, 2448],\n",
       "        ...,\n",
       "        [ 399,  470,  525, ...,    0,    0,    0],\n",
       "        [ 352,  351,  405, ...,    0,    0,    0],\n",
       "        [ 340,  342,  360, ...,    0,    0,    0]],\n",
       "\n",
       "       [[5060, 5668, 6188, ..., 3588, 3614, 3638],\n",
       "        [5328, 5704, 5796, ..., 3574, 3614, 3648],\n",
       "        [4972, 4760, 4888, ..., 3602, 3662, 3694],\n",
       "        ...,\n",
       "        [5304, 4396, 2744, ...,    0,    0,    0],\n",
       "        [5504, 5524, 5200, ...,    0,    0,    0],\n",
       "        [5088, 5048, 5644, ...,    0,    0,    0]]], dtype=uint16)"
      ]
     },
     "execution_count": 14,
     "metadata": {},
     "output_type": "execute_result"
    }
   ],
   "source": [
    "target_image"
   ]
  },
  {
   "cell_type": "code",
   "execution_count": 15,
   "id": "51d742f7-ba1b-4df2-9e70-a0d13919bd5c",
   "metadata": {},
   "outputs": [
    {
     "data": {
      "text/plain": [
       "(399960.0, 10.0, 0.0, 5800020.0, 0.0, -10.0)"
      ]
     },
     "execution_count": 15,
     "metadata": {},
     "output_type": "execute_result"
    }
   ],
   "source": [
    "target_geo_transform"
   ]
  },
  {
   "cell_type": "code",
   "execution_count": 16,
   "id": "8abf4aba-bd95-46c2-a2c7-75157b460766",
   "metadata": {},
   "outputs": [
    {
     "data": {
      "text/plain": [
       "'PROJCS[\"WGS 84 / UTM zone 37N\",GEOGCS[\"WGS 84\",DATUM[\"WGS_1984\",SPHEROID[\"WGS 84\",6378137,298.257223563,AUTHORITY[\"EPSG\",\"7030\"]],AUTHORITY[\"EPSG\",\"6326\"]],PRIMEM[\"Greenwich\",0,AUTHORITY[\"EPSG\",\"8901\"]],UNIT[\"degree\",0.0174532925199433,AUTHORITY[\"EPSG\",\"9122\"]],AUTHORITY[\"EPSG\",\"4326\"]],PROJECTION[\"Transverse_Mercator\"],PARAMETER[\"latitude_of_origin\",0],PARAMETER[\"central_meridian\",39],PARAMETER[\"scale_factor\",0.9996],PARAMETER[\"false_easting\",500000],PARAMETER[\"false_northing\",0],UNIT[\"metre\",1,AUTHORITY[\"EPSG\",\"9001\"]],AXIS[\"Easting\",EAST],AXIS[\"Northing\",NORTH],AUTHORITY[\"EPSG\",\"32637\"]]'"
      ]
     },
     "execution_count": 16,
     "metadata": {},
     "output_type": "execute_result"
    }
   ],
   "source": [
    "target_projection"
   ]
  },
  {
   "cell_type": "code",
   "execution_count": 17,
   "id": "50f4f648-1ffc-4710-ad21-d576f1a8274b",
   "metadata": {},
   "outputs": [
    {
     "name": "stdout",
     "output_type": "stream",
     "text": [
      "Source Image Info:\n",
      "File: crop_0_0_0000.tif\n",
      "Shape: (4, 211, 233)\n",
      "GeoTransform: (0.0, 0.1, 0.0, 0.0, 0.0, 0.1)\n",
      "Projection: GEOGCS[\"WGS 84\",DATUM[\"WGS_1984\",SPHEROID[\"WGS 84\",6378137,298.257223563,AUTHORITY[\"EPSG\",\"7030\"]],AUTHORITY[\"EPSG\",\"6326\"]],PRIMEM[\"Greenwich\",0,AUTHORITY[\"EPSG\",\"8901\"]],UNIT[\"degree\",0.0174532925199433,AUTHORITY[\"EPSG\",\"9122\"]],AXIS[\"Latitude\",NORTH],AXIS[\"Longitude\",EAST],AUTHORITY[\"EPSG\",\"4326\"]]\n",
      "\n",
      "Target Image Info:\n",
      "File: layout_2021-06-15.tif\n",
      "Shape: (4, 10980, 10980)\n",
      "GeoTransform: (399960.0, 10.0, 0.0, 5800020.0, 0.0, -10.0)\n",
      "Projection: PROJCS[\"WGS 84 / UTM zone 37N\",GEOGCS[\"WGS 84\",DATUM[\"WGS_1984\",SPHEROID[\"WGS 84\",6378137,298.257223563,AUTHORITY[\"EPSG\",\"7030\"]],AUTHORITY[\"EPSG\",\"6326\"]],PRIMEM[\"Greenwich\",0,AUTHORITY[\"EPSG\",\"8901\"]],UNIT[\"degree\",0.0174532925199433,AUTHORITY[\"EPSG\",\"9122\"]],AUTHORITY[\"EPSG\",\"4326\"]],PROJECTION[\"Transverse_Mercator\"],PARAMETER[\"latitude_of_origin\",0],PARAMETER[\"central_meridian\",39],PARAMETER[\"scale_factor\",0.9996],PARAMETER[\"false_easting\",500000],PARAMETER[\"false_northing\",0],UNIT[\"metre\",1,AUTHORITY[\"EPSG\",\"9001\"]],AXIS[\"Easting\",EAST],AXIS[\"Northing\",NORTH],AUTHORITY[\"EPSG\",\"32637\"]]\n"
     ]
    }
   ],
   "source": [
    "print(\"Source Image Info:\")\n",
    "print(f\"File: {source_image_name}\")\n",
    "print(f\"Shape: {source_image.shape}\")\n",
    "print(f\"GeoTransform: {source_geo_transform}\")\n",
    "print(f\"Projection: {source_projection}\")\n",
    "\n",
    "print(\"\\nTarget Image Info:\")\n",
    "print(f\"File: {target_image_name}\")\n",
    "print(f\"Shape: {target_image.shape}\")\n",
    "print(f\"GeoTransform: {target_geo_transform}\")\n",
    "print(f\"Projection: {target_projection}\")"
   ]
  },
  {
   "cell_type": "code",
   "execution_count": 18,
   "id": "8449242a-8600-44f1-bc7b-e85872e17ce9",
   "metadata": {},
   "outputs": [],
   "source": [
    "def calculate_corners(geo_transform, width, height):\n",
    "    \"\"\" Вспомогательная функция для вычисления координат углов изображения \"\"\"\n",
    "    ulx = geo_transform[0]\n",
    "    uly = geo_transform[3]\n",
    "    lrx = geo_transform[0] + width * geo_transform[1]\n",
    "    lry = geo_transform[3] + height * geo_transform[5]\n",
    "    return (ulx, uly), (lrx, lry)"
   ]
  },
  {
   "cell_type": "code",
   "execution_count": 19,
   "id": "abd7dd08-bf16-4f6b-b474-5c1832fe4bf8",
   "metadata": {},
   "outputs": [],
   "source": [
    "# Вычисление углов для изображения из папки 1_20\n",
    "source_ul, source_lr = calculate_corners(source_geo_transform, source_image.shape[2], source_image.shape[1])\n"
   ]
  },
  {
   "cell_type": "code",
   "execution_count": 20,
   "id": "475a371a-a948-4882-9383-eb83066d70d5",
   "metadata": {},
   "outputs": [],
   "source": [
    "# Вычисление углов для изображения из папки layouts\n",
    "target_ul, target_lr = calculate_corners(target_geo_transform, target_image.shape[2], target_image.shape[1])\n"
   ]
  },
  {
   "cell_type": "code",
   "execution_count": 21,
   "id": "0f393de6-8e4e-4d5c-8471-6037c822e056",
   "metadata": {},
   "outputs": [
    {
     "name": "stdout",
     "output_type": "stream",
     "text": [
      "Source Image Corners (UL, LR):\n",
      "Upper Left: (0.0, 0.0)\n",
      "Lower Right: (23.3, 21.1)\n",
      "\n",
      "Target Image Corners (UL, LR):\n",
      "Upper Left: (399960.0, 5800020.0)\n",
      "Lower Right: (509760.0, 5690220.0)\n"
     ]
    }
   ],
   "source": [
    "print(\"Source Image Corners (UL, LR):\")\n",
    "print(f\"Upper Left: {source_ul}\")\n",
    "print(f\"Lower Right: {source_lr}\")\n",
    "\n",
    "print(\"\\nTarget Image Corners (UL, LR):\")\n",
    "print(f\"Upper Left: {target_ul}\")\n",
    "print(f\"Lower Right: {target_lr}\")"
   ]
  },
  {
   "cell_type": "code",
   "execution_count": 22,
   "id": "2b7afe57-4c89-407f-b62c-b2febb041f2b",
   "metadata": {},
   "outputs": [],
   "source": [
    "# Вычисление масштаба\n",
    "source_resolution = np.sqrt((source_lr[0] - source_ul[0])**2 + (source_lr[1] - source_ul[1])**2)\n",
    "target_resolution = np.sqrt((target_lr[0] - target_ul[0])**2 + (target_lr[1] - target_ul[1])**2)\n",
    "scale_factor = target_resolution / source_resolution"
   ]
  },
  {
   "cell_type": "code",
   "execution_count": 23,
   "id": "efb1fa21-79ac-43ea-ad4b-9005914cbcee",
   "metadata": {},
   "outputs": [
    {
     "name": "stdout",
     "output_type": "stream",
     "text": [
      "\n",
      "Scale Factor: 4939.885564027744\n"
     ]
    }
   ],
   "source": [
    "print(f\"\\nScale Factor: {scale_factor}\")"
   ]
  },
  {
   "cell_type": "code",
   "execution_count": 24,
   "id": "5e5c9c2f-1ff9-4329-8d3e-3d5bf1b8a5ef",
   "metadata": {},
   "outputs": [],
   "source": [
    "# Масштабирование изображения из папки 1_20\n",
    "resized_source_image = cv2.resize(source_image.transpose((1, 2, 0)), \n",
    "                                  (target_image.shape[2], target_image.shape[1]), \n",
    "                                  interpolation=cv2.INTER_AREA)"
   ]
  },
  {
   "cell_type": "code",
   "execution_count": 25,
   "id": "2ec1da4d-e3f0-4b4f-a4b3-ac34f4f78078",
   "metadata": {},
   "outputs": [],
   "source": [
    "# Преобразуем обратно в исходный формат\n",
    "resized_source_image = resized_source_image.transpose((2, 0, 1))"
   ]
  },
  {
   "cell_type": "code",
   "execution_count": 26,
   "id": "c9313dd2-77c9-405f-98b0-a49bbbf76dd8",
   "metadata": {},
   "outputs": [
    {
     "name": "stdout",
     "output_type": "stream",
     "text": [
      "Resized Source Image Shape: (4, 10980, 10980)\n"
     ]
    }
   ],
   "source": [
    "print(f\"Resized Source Image Shape: {resized_source_image.shape}\")"
   ]
  },
  {
   "cell_type": "markdown",
   "id": "66c7a65c-35a9-4de3-ac63-61591bddab7d",
   "metadata": {},
   "source": [
    "Отлично, теперь, когда мы определили координаты углов и масштабировали сцену, следующим шагом будет определение и восстановление \"битых\" пикселей. Мы будем использовать средние значения соседних пикселей или медианные значения для замены \"битых\" пикселей."
   ]
  },
  {
   "cell_type": "code",
   "execution_count": 27,
   "id": "e88f89ea-f68e-4e37-9ecd-966c4bb864b5",
   "metadata": {},
   "outputs": [],
   "source": [
    "def restore_pixels(image):\n",
    "    \"\"\"\n",
    "    Восстановление \"битых\" пикселей, используя медианные значения соседних пикселей.\n",
    "    \"\"\"\n",
    "    restored_image = image.copy()\n",
    "    for band in range(image.shape[0]):\n",
    "        band_data = image[band]\n",
    "        mask = (band_data == 0) | (band_data < band_data.mean() * 0.15) | (band_data > band_data.mean() * 5)\n",
    "        \n",
    "        # Восстановление с использованием медианных значений соседних пикселей\n",
    "        median = np.median(band_data[~mask])\n",
    "        band_data[mask] = median\n",
    "        restored_image[band] = band_data\n",
    "    return restored_image"
   ]
  },
  {
   "cell_type": "code",
   "execution_count": 28,
   "id": "03900ecd-ac53-4385-a8fb-367b61fe0159",
   "metadata": {},
   "outputs": [],
   "source": [
    "# Восстановление \"битых\" пикселей в изображении из папки 1_20\n",
    "restored_source_image = restore_pixels(resized_source_image)"
   ]
  },
  {
   "cell_type": "code",
   "execution_count": 29,
   "id": "b8a393a2-5fd8-4a3e-b885-debc04a7fd03",
   "metadata": {},
   "outputs": [
    {
     "name": "stdout",
     "output_type": "stream",
     "text": [
      "Restored Source Image\n",
      "Shape: (4, 10980, 10980)\n"
     ]
    }
   ],
   "source": [
    "print(\"Restored Source Image\")\n",
    "print(f\"Shape: {restored_source_image.shape}\")"
   ]
  },
  {
   "cell_type": "code",
   "execution_count": 30,
   "id": "ed5d9a2b-3afe-4f70-9217-c5681c5261ba",
   "metadata": {},
   "outputs": [
    {
     "name": "stdout",
     "output_type": "stream",
     "text": [
      "Number of restored pixels: 19157\n"
     ]
    }
   ],
   "source": [
    "# Проверка восстановления на нескольких пикселях\n",
    "restored_mask = (resized_source_image == 0) | (resized_source_image < resized_source_image.mean() * 0.15) | (resized_source_image > resized_source_image.mean() * 5)\n",
    "print(f\"Number of restored pixels: {np.sum(restored_mask)}\")"
   ]
  },
  {
   "cell_type": "markdown",
   "id": "629b3711",
   "metadata": {},
   "source": [
    "Шаг 4: Сохранение восстановленного изображения\n",
    "Мы сохраним восстановленное изображение в формате GeoTIFF, используя библиотеку GDAL, чтобы сохранить географическую привязку и проекцию."
   ]
  },
  {
   "cell_type": "code",
   "execution_count": 31,
   "id": "cc1bb85d",
   "metadata": {},
   "outputs": [],
   "source": [
    "def save_image(image, file_path, geo_transform, projection):\n",
    "    \"\"\"\n",
    "    Сохраняет изображение в формате GeoTIFF с указанной геопривязкой и проекцией.\n",
    "    \"\"\"\n",
    "    driver = gdal.GetDriverByName('GTiff')\n",
    "    dataset = driver.Create(file_path, image.shape[2], image.shape[1], image.shape[0], gdal.GDT_UInt16)\n",
    "    dataset.SetGeoTransform(geo_transform)\n",
    "    dataset.SetProjection(projection)\n",
    "    for i in range(image.shape[0]):\n",
    "        dataset.GetRasterBand(i+1).WriteArray(image[i])\n",
    "    dataset.FlushCache()"
   ]
  },
  {
   "cell_type": "code",
   "execution_count": 32,
   "id": "3a5c4f41",
   "metadata": {},
   "outputs": [],
   "source": [
    "# Путь для сохранения восстановленного изображения\n",
    "output_image_path = './output_gpt/restored_source_image.tiff'  # Замените на желаемый путь для сохранения\n"
   ]
  },
  {
   "cell_type": "code",
   "execution_count": 33,
   "id": "32d18b1b",
   "metadata": {},
   "outputs": [
    {
     "name": "stdout",
     "output_type": "stream",
     "text": [
      "Restored image saved to ./output_gpt/restored_source_image.tiff\n"
     ]
    }
   ],
   "source": [
    "# Сохранение восстановленного изображения\n",
    "save_image(restored_source_image, output_image_path, target_geo_transform, target_projection)\n",
    "\n",
    "print(f\"Restored image saved to {output_image_path}\")"
   ]
  },
  {
   "cell_type": "markdown",
   "id": "080d69ae",
   "metadata": {},
   "source": [
    "Шаг 5: Формирование отчета\n",
    "Мы добавим шаг для формирования и сохранения отчета о проделанной работе."
   ]
  },
  {
   "cell_type": "code",
   "execution_count": 34,
   "id": "73a37e38",
   "metadata": {},
   "outputs": [],
   "source": [
    "def generate_report(restored_image, source_image, target_image, source_geo_transform, target_geo_transform):\n",
    "    \"\"\"\n",
    "    Формирует отчет о проделанной работе и сохраняет его в JSON формате.\n",
    "    \"\"\"\n",
    "    report = {}\n",
    "    \n",
    "    # Основная информация об изображениях\n",
    "    report['source_image_shape'] = source_image.shape\n",
    "    report['target_image_shape'] = target_image.shape\n",
    "    report['restored_image_shape'] = restored_image.shape\n",
    "\n",
    "    # Координаты углов исходного изображения\n",
    "    source_ul, source_lr = calculate_corners(source_geo_transform, source_image.shape[2], source_image.shape[1])\n",
    "    report['source_image_corners'] = {\n",
    "        'upper_left': [float(coord) for coord in source_ul],\n",
    "        'lower_right': [float(coord) for coord in source_lr]\n",
    "    }\n",
    "\n",
    "    # Координаты углов восстановленного изображения\n",
    "    restored_ul, restored_lr = calculate_corners(target_geo_transform, restored_image.shape[2], restored_image.shape[1])\n",
    "    report['restored_image_corners'] = {\n",
    "        'upper_left': [float(coord) for coord in restored_ul],\n",
    "        'lower_right': [float(coord) for coord in restored_lr]\n",
    "    }\n",
    "\n",
    "    # Количество восстановленных пикселей\n",
    "    restored_mask = (source_image == 0) | (source_image < source_image.mean() * 0.15) | (source_image > source_image.mean() * 5)\n",
    "    report['number_of_restored_pixels'] = int(np.sum(restored_mask))\n",
    "\n",
    "    # Сохранение отчета в файл\n",
    "    report_path = './output/report.json'  # Замените на желаемый путь для сохранения\n",
    "    with open(report_path, 'w') as f:\n",
    "        json.dump(report, f, indent=4)\n",
    "    \n",
    "    print(f\"Report saved to {report_path}\")"
   ]
  },
  {
   "cell_type": "code",
   "execution_count": 35,
   "id": "6c5550a8",
   "metadata": {},
   "outputs": [
    {
     "name": "stdout",
     "output_type": "stream",
     "text": [
      "Report saved to ./output/report.json\n"
     ]
    }
   ],
   "source": [
    "# Генерация отчета\n",
    "generate_report(restored_source_image, source_image, target_image, source_geo_transform, target_geo_transform)"
   ]
  },
  {
   "cell_type": "markdown",
   "id": "ab693349",
   "metadata": {},
   "source": [
    "Шаг 6: Итоговый отчет и проверка данных\n",
    "Мы выведем информацию о всех обработанных изображениях и их характеристиках, чтобы убедиться, что все шаги выполнены правильно."
   ]
  },
  {
   "cell_type": "code",
   "execution_count": 36,
   "id": "81d86f6e",
   "metadata": {},
   "outputs": [],
   "source": [
    "def print_final_report(restored_image, source_image, target_image, source_geo_transform, target_geo_transform):\n",
    "    \"\"\"\n",
    "    Печатает итоговый отчет о проделанной работе.\n",
    "    \"\"\"\n",
    "    # Вывод информации об изображениях\n",
    "    print(\"Source Image Shape:\", source_image.shape)\n",
    "    print(\"Target Image Shape:\", target_image.shape)\n",
    "    print(\"Restored Image Shape:\", restored_image.shape)\n",
    "    \n",
    "    # Координаты углов исходного изображения\n",
    "    source_ul, source_lr = calculate_corners(source_geo_transform, source_image.shape[2], source_image.shape[1])\n",
    "    print(\"Source Image Corners:\")\n",
    "    print(\"  Upper Left:\", source_ul)\n",
    "    print(\"  Lower Right:\", source_lr)\n",
    "    \n",
    "    # Координаты углов восстановленного изображения\n",
    "    restored_ul, restored_lr = calculate_corners(target_geo_transform, restored_image.shape[2], restored_image.shape[1])\n",
    "    print(\"Restored Image Corners:\")\n",
    "    print(\"  Upper Left:\", restored_ul)\n",
    "    print(\"  Lower Right:\", restored_lr)\n",
    "    \n",
    "    # Количество восстановленных пикселей\n",
    "    restored_mask = (source_image == 0) | (source_image < source_image.mean() * 0.15) | (source_image > source_image.mean() * 5)\n",
    "    print(\"Number of Restored Pixels:\", np.sum(restored_mask))"
   ]
  },
  {
   "cell_type": "code",
   "execution_count": 37,
   "id": "2d8aff44",
   "metadata": {},
   "outputs": [
    {
     "name": "stdout",
     "output_type": "stream",
     "text": [
      "Source Image Shape: (4, 211, 233)\n",
      "Target Image Shape: (4, 10980, 10980)\n",
      "Restored Image Shape: (4, 10980, 10980)\n",
      "Source Image Corners:\n",
      "  Upper Left: (0.0, 0.0)\n",
      "  Lower Right: (23.3, 21.1)\n",
      "Restored Image Corners:\n",
      "  Upper Left: (399960.0, 5800020.0)\n",
      "  Lower Right: (509760.0, 5690220.0)\n",
      "Number of Restored Pixels: 19\n"
     ]
    }
   ],
   "source": [
    "# Печать итогового отчета\n",
    "print_final_report(restored_source_image, source_image, target_image, source_geo_transform, target_geo_transform)"
   ]
  },
  {
   "cell_type": "code",
   "execution_count": 38,
   "id": "8d3dedfd",
   "metadata": {},
   "outputs": [
    {
     "name": "stdout",
     "output_type": "stream",
     "text": [
      "Source Files: ['./1_20\\\\crop_0_0_0000.tif', './1_20\\\\crop_0_1_0000.tif', './1_20\\\\crop_0_2_0000.tif', './1_20\\\\crop_0_3_0000.tif', './1_20\\\\crop_1_0_0000.tif', './1_20\\\\crop_1_1_0000.tif', './1_20\\\\crop_1_2_0000.tif', './1_20\\\\crop_1_3_0000.tif', './1_20\\\\crop_2_0_0000.tif', './1_20\\\\crop_2_1_0000.tif', './1_20\\\\crop_2_2_0000.tif', './1_20\\\\crop_2_3_0000.tif', './1_20\\\\crop_3_0_0000.tif', './1_20\\\\crop_3_1_0000.tif', './1_20\\\\crop_3_2_0000.tif', './1_20\\\\crop_3_3_0000.tif', './1_20\\\\crop_4_0_0000.tif', './1_20\\\\crop_4_1_0000.tif', './1_20\\\\crop_4_2_0000.tif', './1_20\\\\crop_4_3_0000.tif']\n",
      "Target Files: ['./layouts\\\\layout_2021-06-15.tif', './layouts\\\\layout_2021-08-16.tif', './layouts\\\\layout_2021-10-10.tif', './layouts\\\\layout_2022-03-17.tif']\n"
     ]
    }
   ],
   "source": [
    "import os\n",
    "\n",
    "def list_files(directory, extension=\".tif\"):\n",
    "    \"\"\"\n",
    "    Возвращает список всех файлов с заданным расширением в указанной директории.\n",
    "    \"\"\"\n",
    "    return [os.path.join(directory, f) for f in os.listdir(directory) if f.endswith(extension)]\n",
    "\n",
    "# Пути к папкам\n",
    "source_directory = './1_20'  # Замените на реальный путь к папке 1_20\n",
    "target_directory = './layouts'  # Замените на реальный путь к папке layouts\n",
    "\n",
    "# Список файлов\n",
    "source_files = list_files(source_directory)\n",
    "target_files = list_files(target_directory)\n",
    "\n",
    "print(\"Source Files:\", source_files)\n",
    "print(\"Target Files:\", target_files)\n"
   ]
  },
  {
   "cell_type": "code",
   "execution_count": 40,
   "id": "7342ee88",
   "metadata": {},
   "outputs": [
    {
     "name": "stdout",
     "output_type": "stream",
     "text": [
      "Source Image Corners: {'./1_20\\\\crop_0_0_0000.tif': ((0.0, 0.0), (23.3, 21.1)), './1_20\\\\crop_0_1_0000.tif': ((0.0, 0.0), (22.400000000000002, 19.200000000000003)), './1_20\\\\crop_0_2_0000.tif': ((0.0, 0.0), (24.700000000000003, 21.400000000000002)), './1_20\\\\crop_0_3_0000.tif': ((0.0, 0.0), (23.3, 21.1)), './1_20\\\\crop_1_0_0000.tif': ((0.0, 0.0), (19.400000000000002, 24.0)), './1_20\\\\crop_1_1_0000.tif': ((0.0, 0.0), (21.3, 18.2)), './1_20\\\\crop_1_2_0000.tif': ((0.0, 0.0), (26.6, 20.200000000000003)), './1_20\\\\crop_1_3_0000.tif': ((0.0, 0.0), (21.8, 20.5)), './1_20\\\\crop_2_0_0000.tif': ((0.0, 0.0), (20.8, 19.200000000000003)), './1_20\\\\crop_2_1_0000.tif': ((0.0, 0.0), (19.5, 27.1)), './1_20\\\\crop_2_2_0000.tif': ((0.0, 0.0), (20.3, 23.0)), './1_20\\\\crop_2_3_0000.tif': ((0.0, 0.0), (21.8, 24.400000000000002)), './1_20\\\\crop_3_0_0000.tif': ((0.0, 0.0), (21.8, 19.8)), './1_20\\\\crop_3_1_0000.tif': ((0.0, 0.0), (18.2, 18.5)), './1_20\\\\crop_3_2_0000.tif': ((0.0, 0.0), (18.3, 26.3)), './1_20\\\\crop_3_3_0000.tif': ((0.0, 0.0), (22.0, 18.7)), './1_20\\\\crop_4_0_0000.tif': ((0.0, 0.0), (18.2, 22.1)), './1_20\\\\crop_4_1_0000.tif': ((0.0, 0.0), (27.200000000000003, 22.5)), './1_20\\\\crop_4_2_0000.tif': ((0.0, 0.0), (19.900000000000002, 23.700000000000003)), './1_20\\\\crop_4_3_0000.tif': ((0.0, 0.0), (22.900000000000002, 25.700000000000003))}\n",
      "Target Image Corners: {'./layouts\\\\layout_2021-06-15.tif': ((399960.0, 5800020.0), (509760.0, 5690220.0)), './layouts\\\\layout_2021-08-16.tif': ((399960.0, 5800020.0), (509760.0, 5690220.0)), './layouts\\\\layout_2021-10-10.tif': ((399960.0, 5800020.0), (509760.0, 5690220.0)), './layouts\\\\layout_2022-03-17.tif': ((399960.0, 5800020.0), (509760.0, 5690220.0))}\n"
     ]
    }
   ],
   "source": [
    "def calculate_corners(geo_transform, width, height):\n",
    "    ul_x = geo_transform[0]\n",
    "    ul_y = geo_transform[3]\n",
    "    lr_x = ul_x + geo_transform[1] * width\n",
    "    lr_y = ul_y + geo_transform[5] * height\n",
    "    return (ul_x, ul_y), (lr_x, lr_y)\n",
    "\n",
    "def get_image_corners(file_path):\n",
    "    image, geo_transform, _ = read_image(file_path)\n",
    "    ul, lr = calculate_corners(geo_transform, image.shape[2], image.shape[1])\n",
    "    return ul, lr\n",
    "\n",
    "# Получение координат углов для всех изображений\n",
    "source_image_corners = {file: get_image_corners(file) for file in source_files}\n",
    "target_image_corners = {file: get_image_corners(file) for file in target_files}\n",
    "\n",
    "print(\"Source Image Corners:\", source_image_corners)\n",
    "print(\"Target Image Corners:\", target_image_corners)\n"
   ]
  },
  {
   "cell_type": "code",
   "execution_count": 41,
   "id": "6d9ed7b0",
   "metadata": {},
   "outputs": [
    {
     "name": "stdout",
     "output_type": "stream",
     "text": [
      "Source file: ./1_20\\crop_0_0_0000.tif, Target file: None\n",
      "Source file: ./1_20\\crop_0_1_0000.tif, Target file: None\n",
      "Source file: ./1_20\\crop_0_2_0000.tif, Target file: None\n",
      "Source file: ./1_20\\crop_0_3_0000.tif, Target file: None\n",
      "Source file: ./1_20\\crop_1_0_0000.tif, Target file: None\n",
      "Source file: ./1_20\\crop_1_1_0000.tif, Target file: None\n",
      "Source file: ./1_20\\crop_1_2_0000.tif, Target file: None\n",
      "Source file: ./1_20\\crop_1_3_0000.tif, Target file: None\n",
      "Source file: ./1_20\\crop_2_0_0000.tif, Target file: None\n",
      "Source file: ./1_20\\crop_2_1_0000.tif, Target file: None\n",
      "Source file: ./1_20\\crop_2_2_0000.tif, Target file: None\n",
      "Source file: ./1_20\\crop_2_3_0000.tif, Target file: None\n",
      "Source file: ./1_20\\crop_3_0_0000.tif, Target file: None\n",
      "Source file: ./1_20\\crop_3_1_0000.tif, Target file: None\n",
      "Source file: ./1_20\\crop_3_2_0000.tif, Target file: None\n",
      "Source file: ./1_20\\crop_3_3_0000.tif, Target file: None\n",
      "Source file: ./1_20\\crop_4_0_0000.tif, Target file: None\n",
      "Source file: ./1_20\\crop_4_1_0000.tif, Target file: None\n",
      "Source file: ./1_20\\crop_4_2_0000.tif, Target file: None\n",
      "Source file: ./1_20\\crop_4_3_0000.tif, Target file: None\n"
     ]
    }
   ],
   "source": [
    "def check_intersection(source_ul, source_lr, target_ul, target_lr):\n",
    "    \"\"\"\n",
    "    Проверяет пересечение между двумя прямоугольниками.\n",
    "    \"\"\"\n",
    "    return not (source_lr[0] < target_ul[0] or source_ul[0] > target_lr[0] or \n",
    "                source_lr[1] > target_ul[1] or source_ul[1] < target_lr[1])\n",
    "\n",
    "def find_matching_target_file(source_corners, target_image_corners):\n",
    "    \"\"\"\n",
    "    Ищет соответствующий файл из target_image_corners для заданного source_corners.\n",
    "    \"\"\"\n",
    "    source_ul, source_lr = source_corners\n",
    "    for target_file, target_corners in target_image_corners.items():\n",
    "        target_ul, target_lr = target_corners\n",
    "        if check_intersection(source_ul, source_lr, target_ul, target_lr):\n",
    "            return target_file\n",
    "    return None\n",
    "\n",
    "# Проверка сопоставления файлов\n",
    "for source_file, source_corners in source_image_corners.items():\n",
    "    target_file = find_matching_target_file(source_corners, target_image_corners)\n",
    "    print(f\"Source file: {source_file}, Target file: {target_file}\")\n"
   ]
  },
  {
   "cell_type": "code",
   "execution_count": 44,
   "id": "f6605574",
   "metadata": {},
   "outputs": [
    {
     "name": "stdout",
     "output_type": "stream",
     "text": [
      "No matching target file found for source file: ./1_20\\crop_0_0_0000.tif\n",
      "No matching target file found for source file: ./1_20\\crop_0_1_0000.tif\n",
      "No matching target file found for source file: ./1_20\\crop_0_2_0000.tif\n",
      "No matching target file found for source file: ./1_20\\crop_0_3_0000.tif\n",
      "No matching target file found for source file: ./1_20\\crop_1_0_0000.tif\n",
      "No matching target file found for source file: ./1_20\\crop_1_1_0000.tif\n",
      "No matching target file found for source file: ./1_20\\crop_1_2_0000.tif\n",
      "No matching target file found for source file: ./1_20\\crop_1_3_0000.tif\n",
      "No matching target file found for source file: ./1_20\\crop_2_0_0000.tif\n",
      "No matching target file found for source file: ./1_20\\crop_2_1_0000.tif\n",
      "No matching target file found for source file: ./1_20\\crop_2_2_0000.tif\n",
      "No matching target file found for source file: ./1_20\\crop_2_3_0000.tif\n",
      "No matching target file found for source file: ./1_20\\crop_3_0_0000.tif\n",
      "No matching target file found for source file: ./1_20\\crop_3_1_0000.tif\n",
      "No matching target file found for source file: ./1_20\\crop_3_2_0000.tif\n",
      "No matching target file found for source file: ./1_20\\crop_3_3_0000.tif\n",
      "No matching target file found for source file: ./1_20\\crop_4_0_0000.tif\n",
      "No matching target file found for source file: ./1_20\\crop_4_1_0000.tif\n",
      "No matching target file found for source file: ./1_20\\crop_4_2_0000.tif\n",
      "No matching target file found for source file: ./1_20\\crop_4_3_0000.tif\n"
     ]
    }
   ],
   "source": [
    "def process_multiple_images(source_files, source_image_corners, target_image_corners, output_directory):\n",
    "    \"\"\"\n",
    "    Обрабатывает несколько исходных изображений, сопоставляя их с соответствующими целевыми изображениями.\n",
    "    \"\"\"\n",
    "    if not os.path.exists(output_directory):\n",
    "        os.makedirs(output_directory)\n",
    "    \n",
    "    for source_file in source_files:\n",
    "        target_file = find_matching_target_file(source_image_corners[source_file], target_image_corners)\n",
    "        if target_file:\n",
    "            print(f\"Processing source file: {source_file} with target file: {target_file}\")\n",
    "            \n",
    "            source_image, source_geo_transform, source_projection = read_image(source_file)\n",
    "            target_image, target_geo_transform, target_projection = read_image(target_file)\n",
    "            \n",
    "            resized_source_image = resize_image(source_image, target_image.shape[2], target_image.shape[1])\n",
    "            restored_source_image = restore_pixels(resized_source_image)\n",
    "            \n",
    "            output_image_path = os.path.join(output_directory, os.path.basename(source_file))\n",
    "            save_image(restored_source_image, output_image_path, target_geo_transform, target_projection)\n",
    "            \n",
    "            generate_report(restored_source_image, source_image, target_image, source_geo_transform, target_geo_transform)\n",
    "        else:\n",
    "            print(f\"No matching target file found for source file: {source_file}\")\n",
    "\n",
    "# Путь к папке для сохранения результатов\n",
    "output_directory = './output'  # Замените на желаемый путь для сохранения результатов\n",
    "\n",
    "# Запуск обработки нескольких изображений\n",
    "process_multiple_images(source_files, source_image_corners, target_image_corners, output_directory)\n"
   ]
  },
  {
   "cell_type": "code",
   "execution_count": 45,
   "id": "5f21f4d1",
   "metadata": {},
   "outputs": [
    {
     "name": "stdout",
     "output_type": "stream",
     "text": [
      "New Source Image Corners: {'./1_20\\\\crop_0_0_0000.tif': ((400023.3, 5800021.1), (633023.3, 6011021.1)), './1_20\\\\crop_0_1_0000.tif': ((400022.4, 5800019.2), (624022.4, 5992019.2)), './1_20\\\\crop_0_2_0000.tif': ((400024.7, 5800021.4), (647024.7, 6014021.4)), './1_20\\\\crop_0_3_0000.tif': ((400023.3, 5800021.1), (633023.3, 6011021.1)), './1_20\\\\crop_1_0_0000.tif': ((400019.4, 5800024.0), (594019.4, 6040024.0)), './1_20\\\\crop_1_1_0000.tif': ((400021.3, 5800018.2), (613021.3, 5982018.2)), './1_20\\\\crop_1_2_0000.tif': ((400026.6, 5800020.2), (666026.6, 6002020.2)), './1_20\\\\crop_1_3_0000.tif': ((400021.8, 5800020.5), (618021.8, 6005020.5)), './1_20\\\\crop_2_0_0000.tif': ((400020.8, 5800019.2), (608020.8, 5992019.2)), './1_20\\\\crop_2_1_0000.tif': ((400019.5, 5800027.1), (595019.5, 6071027.1)), './1_20\\\\crop_2_2_0000.tif': ((400020.3, 5800023.0), (603020.3, 6030023.0)), './1_20\\\\crop_2_3_0000.tif': ((400021.8, 5800024.4), (618021.8, 6044024.4)), './1_20\\\\crop_3_0_0000.tif': ((400021.8, 5800019.8), (618021.8, 5998019.8)), './1_20\\\\crop_3_1_0000.tif': ((400018.2, 5800018.5), (582018.2, 5985018.5)), './1_20\\\\crop_3_2_0000.tif': ((400018.3, 5800026.3), (583018.3, 6063026.3)), './1_20\\\\crop_3_3_0000.tif': ((400022.0, 5800018.7), (620022.0, 5987018.7)), './1_20\\\\crop_4_0_0000.tif': ((400018.2, 5800022.1), (582018.2, 6021022.1)), './1_20\\\\crop_4_1_0000.tif': ((400027.2, 5800022.5), (672027.2, 6025022.5)), './1_20\\\\crop_4_2_0000.tif': ((400019.9, 5800023.7), (599019.9, 6037023.7)), './1_20\\\\crop_4_3_0000.tif': ((400022.9, 5800025.7), (629022.9, 6057025.7))}\n"
     ]
    }
   ],
   "source": [
    "def calculate_new_corners(geo_transform, width, height, start_x, start_y, step_x, step_y):\n",
    "    ul_x = start_x + geo_transform[1] * width\n",
    "    ul_y = start_y + geo_transform[5] * height\n",
    "    lr_x = ul_x + step_x * width\n",
    "    lr_y = ul_y + step_y * height\n",
    "    return (ul_x, ul_y), (lr_x, lr_y)\n",
    "\n",
    "def get_new_image_corners(file_path, start_x, start_y, step_x, step_y):\n",
    "    image, geo_transform, _ = read_image(file_path)\n",
    "    ul, lr = calculate_new_corners(geo_transform, image.shape[2], image.shape[1], start_x, start_y, step_x, step_y)\n",
    "    return ul, lr\n",
    "\n",
    "# Начальные координаты и шаги\n",
    "start_x, start_y = 400000, 5800000  # Задайте реальные начальные координаты\n",
    "step_x, step_y = 1000, 1000  # Задайте реальные шаги по X и Y\n",
    "\n",
    "# Получение новых координат углов для всех изображений в `1_20`\n",
    "new_source_image_corners = {file: get_new_image_corners(file, start_x, start_y, step_x, step_y) for file in source_files}\n",
    "\n",
    "print(\"New Source Image Corners:\", new_source_image_corners)\n"
   ]
  },
  {
   "cell_type": "code",
   "execution_count": 46,
   "id": "e7ee8f52",
   "metadata": {},
   "outputs": [
    {
     "name": "stdout",
     "output_type": "stream",
     "text": [
      "Source file: ./1_20\\crop_0_0_0000.tif, Target file: None\n",
      "Source file: ./1_20\\crop_0_1_0000.tif, Target file: None\n",
      "Source file: ./1_20\\crop_0_2_0000.tif, Target file: None\n",
      "Source file: ./1_20\\crop_0_3_0000.tif, Target file: None\n",
      "Source file: ./1_20\\crop_1_0_0000.tif, Target file: None\n",
      "Source file: ./1_20\\crop_1_1_0000.tif, Target file: None\n",
      "Source file: ./1_20\\crop_1_2_0000.tif, Target file: None\n",
      "Source file: ./1_20\\crop_1_3_0000.tif, Target file: None\n",
      "Source file: ./1_20\\crop_2_0_0000.tif, Target file: None\n",
      "Source file: ./1_20\\crop_2_1_0000.tif, Target file: None\n",
      "Source file: ./1_20\\crop_2_2_0000.tif, Target file: None\n",
      "Source file: ./1_20\\crop_2_3_0000.tif, Target file: None\n",
      "Source file: ./1_20\\crop_3_0_0000.tif, Target file: None\n",
      "Source file: ./1_20\\crop_3_1_0000.tif, Target file: None\n",
      "Source file: ./1_20\\crop_3_2_0000.tif, Target file: None\n",
      "Source file: ./1_20\\crop_3_3_0000.tif, Target file: None\n",
      "Source file: ./1_20\\crop_4_0_0000.tif, Target file: None\n",
      "Source file: ./1_20\\crop_4_1_0000.tif, Target file: None\n",
      "Source file: ./1_20\\crop_4_2_0000.tif, Target file: None\n",
      "Source file: ./1_20\\crop_4_3_0000.tif, Target file: None\n"
     ]
    }
   ],
   "source": [
    "def check_new_intersection(source_ul, source_lr, target_ul, target_lr):\n",
    "    return not (source_lr[0] < target_ul[0] or source_ul[0] > target_lr[0] or \n",
    "                source_lr[1] > target_ul[1] or source_ul[1] < target_lr[1])\n",
    "\n",
    "def find_new_matching_target_file(source_corners, target_image_corners):\n",
    "    source_ul, source_lr = source_corners\n",
    "    for target_file, target_corners in target_image_corners.items():\n",
    "        target_ul, target_lr = target_corners\n",
    "        if check_new_intersection(source_ul, source_lr, target_ul, target_lr):\n",
    "            return target_file\n",
    "    return None\n",
    "\n",
    "# Проверка сопоставления файлов с новыми координатами\n",
    "for source_file, source_corners in new_source_image_corners.items():\n",
    "    target_file = find_new_matching_target_file(source_corners, target_image_corners)\n",
    "    print(f\"Source file: {source_file}, Target file: {target_file}\")\n"
   ]
  },
  {
   "cell_type": "code",
   "execution_count": 47,
   "id": "c22ce3ee",
   "metadata": {},
   "outputs": [],
   "source": [
    "start_x, start_y = 400000, 5800000  # Замените на реальные начальные координаты\n",
    "step_x, step_y = 1000, 1000  # Замените на реальные шаги по X и Y\n"
   ]
  },
  {
   "cell_type": "code",
   "execution_count": 48,
   "id": "ad9b1659",
   "metadata": {},
   "outputs": [
    {
     "name": "stdout",
     "output_type": "stream",
     "text": [
      "New Source Image Corners: {'./1_20\\\\crop_0_0_0000.tif': ((400023.3, 5800021.1), (633023.3, 6011021.1)), './1_20\\\\crop_0_1_0000.tif': ((400022.4, 5800019.2), (624022.4, 5992019.2)), './1_20\\\\crop_0_2_0000.tif': ((400024.7, 5800021.4), (647024.7, 6014021.4)), './1_20\\\\crop_0_3_0000.tif': ((400023.3, 5800021.1), (633023.3, 6011021.1)), './1_20\\\\crop_1_0_0000.tif': ((400019.4, 5800024.0), (594019.4, 6040024.0)), './1_20\\\\crop_1_1_0000.tif': ((400021.3, 5800018.2), (613021.3, 5982018.2)), './1_20\\\\crop_1_2_0000.tif': ((400026.6, 5800020.2), (666026.6, 6002020.2)), './1_20\\\\crop_1_3_0000.tif': ((400021.8, 5800020.5), (618021.8, 6005020.5)), './1_20\\\\crop_2_0_0000.tif': ((400020.8, 5800019.2), (608020.8, 5992019.2)), './1_20\\\\crop_2_1_0000.tif': ((400019.5, 5800027.1), (595019.5, 6071027.1)), './1_20\\\\crop_2_2_0000.tif': ((400020.3, 5800023.0), (603020.3, 6030023.0)), './1_20\\\\crop_2_3_0000.tif': ((400021.8, 5800024.4), (618021.8, 6044024.4)), './1_20\\\\crop_3_0_0000.tif': ((400021.8, 5800019.8), (618021.8, 5998019.8)), './1_20\\\\crop_3_1_0000.tif': ((400018.2, 5800018.5), (582018.2, 5985018.5)), './1_20\\\\crop_3_2_0000.tif': ((400018.3, 5800026.3), (583018.3, 6063026.3)), './1_20\\\\crop_3_3_0000.tif': ((400022.0, 5800018.7), (620022.0, 5987018.7)), './1_20\\\\crop_4_0_0000.tif': ((400018.2, 5800022.1), (582018.2, 6021022.1)), './1_20\\\\crop_4_1_0000.tif': ((400027.2, 5800022.5), (672027.2, 6025022.5)), './1_20\\\\crop_4_2_0000.tif': ((400019.9, 5800023.7), (599019.9, 6037023.7)), './1_20\\\\crop_4_3_0000.tif': ((400022.9, 5800025.7), (629022.9, 6057025.7))}\n"
     ]
    }
   ],
   "source": [
    "def calculate_new_corners(geo_transform, width, height, start_x, start_y, step_x, step_y):\n",
    "    ul_x = start_x + geo_transform[1] * width\n",
    "    ul_y = start_y + geo_transform[5] * height\n",
    "    lr_x = ul_x + step_x * width\n",
    "    lr_y = ul_y + step_y * height\n",
    "    return (ul_x, ul_y), (lr_x, lr_y)\n",
    "\n",
    "def get_new_image_corners(file_path, start_x, start_y, step_x, step_y):\n",
    "    image, geo_transform, _ = read_image(file_path)\n",
    "    ul, lr = calculate_new_corners(geo_transform, image.shape[2], image.shape[1], start_x, start_y, step_x, step_y)\n",
    "    return ul, lr\n",
    "\n",
    "# Получение новых координат углов для всех изображений в `1_20`\n",
    "new_source_image_corners = {file: get_new_image_corners(file, start_x, start_y, step_x, step_y) for file in source_files}\n",
    "\n",
    "print(\"New Source Image Corners:\", new_source_image_corners)\n"
   ]
  },
  {
   "cell_type": "code",
   "execution_count": 49,
   "id": "d3c5f5c1",
   "metadata": {},
   "outputs": [
    {
     "name": "stdout",
     "output_type": "stream",
     "text": [
      "Source file: ./1_20\\crop_0_0_0000.tif, Target file: None\n",
      "Source file: ./1_20\\crop_0_1_0000.tif, Target file: None\n",
      "Source file: ./1_20\\crop_0_2_0000.tif, Target file: None\n",
      "Source file: ./1_20\\crop_0_3_0000.tif, Target file: None\n",
      "Source file: ./1_20\\crop_1_0_0000.tif, Target file: None\n",
      "Source file: ./1_20\\crop_1_1_0000.tif, Target file: None\n",
      "Source file: ./1_20\\crop_1_2_0000.tif, Target file: None\n",
      "Source file: ./1_20\\crop_1_3_0000.tif, Target file: None\n",
      "Source file: ./1_20\\crop_2_0_0000.tif, Target file: None\n",
      "Source file: ./1_20\\crop_2_1_0000.tif, Target file: None\n",
      "Source file: ./1_20\\crop_2_2_0000.tif, Target file: None\n",
      "Source file: ./1_20\\crop_2_3_0000.tif, Target file: None\n",
      "Source file: ./1_20\\crop_3_0_0000.tif, Target file: None\n",
      "Source file: ./1_20\\crop_3_1_0000.tif, Target file: None\n",
      "Source file: ./1_20\\crop_3_2_0000.tif, Target file: None\n",
      "Source file: ./1_20\\crop_3_3_0000.tif, Target file: None\n",
      "Source file: ./1_20\\crop_4_0_0000.tif, Target file: None\n",
      "Source file: ./1_20\\crop_4_1_0000.tif, Target file: None\n",
      "Source file: ./1_20\\crop_4_2_0000.tif, Target file: None\n",
      "Source file: ./1_20\\crop_4_3_0000.tif, Target file: None\n"
     ]
    }
   ],
   "source": [
    "def check_new_intersection(source_ul, source_lr, target_ul, target_lr):\n",
    "    return not (source_lr[0] < target_ul[0] or source_ul[0] > target_lr[0] or \n",
    "                source_lr[1] > target_ul[1] or source_ul[1] < target_lr[1])\n",
    "\n",
    "def find_new_matching_target_file(source_corners, target_image_corners):\n",
    "    source_ul, source_lr = source_corners\n",
    "    for target_file, target_corners in target_image_corners.items():\n",
    "        target_ul, target_lr = target_corners\n",
    "        if check_new_intersection(source_ul, source_lr, target_ul, target_lr):\n",
    "            return target_file\n",
    "    return None\n",
    "\n",
    "# Проверка сопоставления файлов с новыми координатами\n",
    "for source_file, source_corners in new_source_image_corners.items():\n",
    "    target_file = find_new_matching_target_file(source_corners, target_image_corners)\n",
    "    print(f\"Source file: {source_file}, Target file: {target_file}\")\n"
   ]
  },
  {
   "cell_type": "code",
   "execution_count": null,
   "id": "71bf689a",
   "metadata": {},
   "outputs": [],
   "source": []
  }
 ],
 "metadata": {
  "kernelspec": {
   "display_name": "Python 3 (ipykernel)",
   "language": "python",
   "name": "python3"
  },
  "language_info": {
   "codemirror_mode": {
    "name": "ipython",
    "version": 3
   },
   "file_extension": ".py",
   "mimetype": "text/x-python",
   "name": "python",
   "nbconvert_exporter": "python",
   "pygments_lexer": "ipython3",
   "version": "3.9.19"
  }
 },
 "nbformat": 4,
 "nbformat_minor": 5
}
