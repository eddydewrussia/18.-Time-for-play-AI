{
 "cells": [
  {
   "cell_type": "markdown",
   "metadata": {},
   "source": [
    "# Установка библиотек  \n",
    "после успешной установки, строки комментим"
   ]
  },
  {
   "cell_type": "code",
   "execution_count": null,
   "metadata": {},
   "outputs": [],
   "source": [
    "# Установим необходимые библиотеки\n",
    "!pip install tensorflow opencv-python-headless numpy scikit-learn\n",
    "!pip install joblib\n",
    "!pip install numpy opencv-python-headless\n",
    "!pip install h5py\n",
    "!pip install  gdal\n",
    "!pip install matplotlib\n",
    "\n"
   ]
  },
  {
   "cell_type": "code",
   "execution_count": 11,
   "metadata": {},
   "outputs": [
    {
     "name": "stdout",
     "output_type": "stream",
     "text": [
      "Collecting gdal\n",
      "  Using cached GDAL-3.9.0.tar.gz (839 kB)\n",
      "  Installing build dependencies: started\n",
      "  Installing build dependencies: finished with status 'done'\n",
      "  Getting requirements to build wheel: started\n",
      "  Getting requirements to build wheel: finished with status 'done'\n",
      "  Preparing metadata (pyproject.toml): started\n",
      "  Preparing metadata (pyproject.toml): finished with status 'done'\n",
      "Building wheels for collected packages: gdal\n",
      "  Building wheel for gdal (pyproject.toml): started\n",
      "  Building wheel for gdal (pyproject.toml): finished with status 'error'\n",
      "Failed to build gdal\n"
     ]
    },
    {
     "name": "stderr",
     "output_type": "stream",
     "text": [
      "  error: subprocess-exited-with-error\n",
      "  \n",
      "  × Building wheel for gdal (pyproject.toml) did not run successfully.\n",
      "  │ exit code: 1\n",
      "  ╰─> [156 lines of output]\n",
      "      Using numpy 2.0.0\n",
      "      running bdist_wheel\n",
      "      running build\n",
      "      running build_py\n",
      "      creating build\n",
      "      creating build\\lib.win-amd64-cpython-311\n",
      "      creating build\\lib.win-amd64-cpython-311\\osgeo\n",
      "      copying osgeo\\gdal.py -> build\\lib.win-amd64-cpython-311\\osgeo\n",
      "      copying osgeo\\gdalconst.py -> build\\lib.win-amd64-cpython-311\\osgeo\n",
      "      copying osgeo\\gdalnumeric.py -> build\\lib.win-amd64-cpython-311\\osgeo\n",
      "      copying osgeo\\gdal_array.py -> build\\lib.win-amd64-cpython-311\\osgeo\n",
      "      copying osgeo\\gnm.py -> build\\lib.win-amd64-cpython-311\\osgeo\n",
      "      copying osgeo\\ogr.py -> build\\lib.win-amd64-cpython-311\\osgeo\n",
      "      copying osgeo\\osr.py -> build\\lib.win-amd64-cpython-311\\osgeo\n",
      "      copying osgeo\\__init__.py -> build\\lib.win-amd64-cpython-311\\osgeo\n",
      "      creating build\\lib.win-amd64-cpython-311\\osgeo_utils\n",
      "      copying gdal-utils\\osgeo_utils\\gdal2tiles.py -> build\\lib.win-amd64-cpython-311\\osgeo_utils\n",
      "      copying gdal-utils\\osgeo_utils\\gdal2xyz.py -> build\\lib.win-amd64-cpython-311\\osgeo_utils\n",
      "      copying gdal-utils\\osgeo_utils\\gdalattachpct.py -> build\\lib.win-amd64-cpython-311\\osgeo_utils\n",
      "      copying gdal-utils\\osgeo_utils\\gdalcompare.py -> build\\lib.win-amd64-cpython-311\\osgeo_utils\n",
      "      copying gdal-utils\\osgeo_utils\\gdalmove.py -> build\\lib.win-amd64-cpython-311\\osgeo_utils\n",
      "      copying gdal-utils\\osgeo_utils\\gdal_calc.py -> build\\lib.win-amd64-cpython-311\\osgeo_utils\n",
      "      copying gdal-utils\\osgeo_utils\\gdal_edit.py -> build\\lib.win-amd64-cpython-311\\osgeo_utils\n",
      "      copying gdal-utils\\osgeo_utils\\gdal_fillnodata.py -> build\\lib.win-amd64-cpython-311\\osgeo_utils\n",
      "      copying gdal-utils\\osgeo_utils\\gdal_merge.py -> build\\lib.win-amd64-cpython-311\\osgeo_utils\n",
      "      copying gdal-utils\\osgeo_utils\\gdal_pansharpen.py -> build\\lib.win-amd64-cpython-311\\osgeo_utils\n",
      "      copying gdal-utils\\osgeo_utils\\gdal_polygonize.py -> build\\lib.win-amd64-cpython-311\\osgeo_utils\n",
      "      copying gdal-utils\\osgeo_utils\\gdal_proximity.py -> build\\lib.win-amd64-cpython-311\\osgeo_utils\n",
      "      copying gdal-utils\\osgeo_utils\\gdal_retile.py -> build\\lib.win-amd64-cpython-311\\osgeo_utils\n",
      "      copying gdal-utils\\osgeo_utils\\gdal_sieve.py -> build\\lib.win-amd64-cpython-311\\osgeo_utils\n",
      "      copying gdal-utils\\osgeo_utils\\ogrmerge.py -> build\\lib.win-amd64-cpython-311\\osgeo_utils\n",
      "      copying gdal-utils\\osgeo_utils\\ogr_layer_algebra.py -> build\\lib.win-amd64-cpython-311\\osgeo_utils\n",
      "      copying gdal-utils\\osgeo_utils\\pct2rgb.py -> build\\lib.win-amd64-cpython-311\\osgeo_utils\n",
      "      copying gdal-utils\\osgeo_utils\\rgb2pct.py -> build\\lib.win-amd64-cpython-311\\osgeo_utils\n",
      "      copying gdal-utils\\osgeo_utils\\__init__.py -> build\\lib.win-amd64-cpython-311\\osgeo_utils\n",
      "      creating build\\lib.win-amd64-cpython-311\\osgeo_utils\\auxiliary\n",
      "      copying gdal-utils\\osgeo_utils\\auxiliary\\array_util.py -> build\\lib.win-amd64-cpython-311\\osgeo_utils\\auxiliary\n",
      "      copying gdal-utils\\osgeo_utils\\auxiliary\\base.py -> build\\lib.win-amd64-cpython-311\\osgeo_utils\\auxiliary\n",
      "      copying gdal-utils\\osgeo_utils\\auxiliary\\batch_creator.py -> build\\lib.win-amd64-cpython-311\\osgeo_utils\\auxiliary\n",
      "      copying gdal-utils\\osgeo_utils\\auxiliary\\color_palette.py -> build\\lib.win-amd64-cpython-311\\osgeo_utils\\auxiliary\n",
      "      copying gdal-utils\\osgeo_utils\\auxiliary\\color_table.py -> build\\lib.win-amd64-cpython-311\\osgeo_utils\\auxiliary\n",
      "      copying gdal-utils\\osgeo_utils\\auxiliary\\extent_util.py -> build\\lib.win-amd64-cpython-311\\osgeo_utils\\auxiliary\n",
      "      copying gdal-utils\\osgeo_utils\\auxiliary\\gdal_argparse.py -> build\\lib.win-amd64-cpython-311\\osgeo_utils\\auxiliary\n",
      "      copying gdal-utils\\osgeo_utils\\auxiliary\\numpy_util.py -> build\\lib.win-amd64-cpython-311\\osgeo_utils\\auxiliary\n",
      "      copying gdal-utils\\osgeo_utils\\auxiliary\\osr_util.py -> build\\lib.win-amd64-cpython-311\\osgeo_utils\\auxiliary\n",
      "      copying gdal-utils\\osgeo_utils\\auxiliary\\progress.py -> build\\lib.win-amd64-cpython-311\\osgeo_utils\\auxiliary\n",
      "      copying gdal-utils\\osgeo_utils\\auxiliary\\raster_creation.py -> build\\lib.win-amd64-cpython-311\\osgeo_utils\\auxiliary\n",
      "      copying gdal-utils\\osgeo_utils\\auxiliary\\rectangle.py -> build\\lib.win-amd64-cpython-311\\osgeo_utils\\auxiliary\n",
      "      copying gdal-utils\\osgeo_utils\\auxiliary\\util.py -> build\\lib.win-amd64-cpython-311\\osgeo_utils\\auxiliary\n",
      "      copying gdal-utils\\osgeo_utils\\auxiliary\\__init__.py -> build\\lib.win-amd64-cpython-311\\osgeo_utils\\auxiliary\n",
      "      creating build\\lib.win-amd64-cpython-311\\osgeo_utils\\samples\n",
      "      copying gdal-utils\\osgeo_utils\\samples\\assemblepoly.py -> build\\lib.win-amd64-cpython-311\\osgeo_utils\\samples\n",
      "      copying gdal-utils\\osgeo_utils\\samples\\build_jp2_from_xml.py -> build\\lib.win-amd64-cpython-311\\osgeo_utils\\samples\n",
      "      copying gdal-utils\\osgeo_utils\\samples\\classify.py -> build\\lib.win-amd64-cpython-311\\osgeo_utils\\samples\n",
      "      copying gdal-utils\\osgeo_utils\\samples\\crs2crs2grid.py -> build\\lib.win-amd64-cpython-311\\osgeo_utils\\samples\n",
      "      copying gdal-utils\\osgeo_utils\\samples\\densify.py -> build\\lib.win-amd64-cpython-311\\osgeo_utils\\samples\n",
      "      copying gdal-utils\\osgeo_utils\\samples\\dump_jp2.py -> build\\lib.win-amd64-cpython-311\\osgeo_utils\\samples\n",
      "      copying gdal-utils\\osgeo_utils\\samples\\epsg_tr.py -> build\\lib.win-amd64-cpython-311\\osgeo_utils\\samples\n",
      "      copying gdal-utils\\osgeo_utils\\samples\\esri2wkt.py -> build\\lib.win-amd64-cpython-311\\osgeo_utils\\samples\n",
      "      copying gdal-utils\\osgeo_utils\\samples\\fft.py -> build\\lib.win-amd64-cpython-311\\osgeo_utils\\samples\n",
      "      copying gdal-utils\\osgeo_utils\\samples\\fix_gpkg.py -> build\\lib.win-amd64-cpython-311\\osgeo_utils\\samples\n",
      "      copying gdal-utils\\osgeo_utils\\samples\\gcps2ogr.py -> build\\lib.win-amd64-cpython-311\\osgeo_utils\\samples\n",
      "      copying gdal-utils\\osgeo_utils\\samples\\gcps2vec.py -> build\\lib.win-amd64-cpython-311\\osgeo_utils\\samples\n",
      "      copying gdal-utils\\osgeo_utils\\samples\\gcps2wld.py -> build\\lib.win-amd64-cpython-311\\osgeo_utils\\samples\n",
      "      copying gdal-utils\\osgeo_utils\\samples\\gdal2grd.py -> build\\lib.win-amd64-cpython-311\\osgeo_utils\\samples\n",
      "      copying gdal-utils\\osgeo_utils\\samples\\gdalbuildvrtofvrt.py -> build\\lib.win-amd64-cpython-311\\osgeo_utils\\samples\n",
      "      copying gdal-utils\\osgeo_utils\\samples\\gdalchksum.py -> build\\lib.win-amd64-cpython-311\\osgeo_utils\\samples\n",
      "      copying gdal-utils\\osgeo_utils\\samples\\gdalcopyproj.py -> build\\lib.win-amd64-cpython-311\\osgeo_utils\\samples\n",
      "      copying gdal-utils\\osgeo_utils\\samples\\gdalfilter.py -> build\\lib.win-amd64-cpython-311\\osgeo_utils\\samples\n",
      "      copying gdal-utils\\osgeo_utils\\samples\\gdalident.py -> build\\lib.win-amd64-cpython-311\\osgeo_utils\\samples\n",
      "      copying gdal-utils\\osgeo_utils\\samples\\gdalimport.py -> build\\lib.win-amd64-cpython-311\\osgeo_utils\\samples\n",
      "      copying gdal-utils\\osgeo_utils\\samples\\gdalinfo.py -> build\\lib.win-amd64-cpython-311\\osgeo_utils\\samples\n",
      "      copying gdal-utils\\osgeo_utils\\samples\\gdallocationinfo.py -> build\\lib.win-amd64-cpython-311\\osgeo_utils\\samples\n",
      "      copying gdal-utils\\osgeo_utils\\samples\\gdal_auth.py -> build\\lib.win-amd64-cpython-311\\osgeo_utils\\samples\n",
      "      copying gdal-utils\\osgeo_utils\\samples\\gdal_cp.py -> build\\lib.win-amd64-cpython-311\\osgeo_utils\\samples\n",
      "      copying gdal-utils\\osgeo_utils\\samples\\gdal_create_pdf.py -> build\\lib.win-amd64-cpython-311\\osgeo_utils\\samples\n",
      "      copying gdal-utils\\osgeo_utils\\samples\\gdal_ls.py -> build\\lib.win-amd64-cpython-311\\osgeo_utils\\samples\n",
      "      copying gdal-utils\\osgeo_utils\\samples\\gdal_lut.py -> build\\lib.win-amd64-cpython-311\\osgeo_utils\\samples\n",
      "      copying gdal-utils\\osgeo_utils\\samples\\gdal_mkdir.py -> build\\lib.win-amd64-cpython-311\\osgeo_utils\\samples\n",
      "      copying gdal-utils\\osgeo_utils\\samples\\gdal_remove_towgs84.py -> build\\lib.win-amd64-cpython-311\\osgeo_utils\\samples\n",
      "      copying gdal-utils\\osgeo_utils\\samples\\gdal_rm.py -> build\\lib.win-amd64-cpython-311\\osgeo_utils\\samples\n",
      "      copying gdal-utils\\osgeo_utils\\samples\\gdal_rmdir.py -> build\\lib.win-amd64-cpython-311\\osgeo_utils\\samples\n",
      "      copying gdal-utils\\osgeo_utils\\samples\\gdal_vrtmerge.py -> build\\lib.win-amd64-cpython-311\\osgeo_utils\\samples\n",
      "      copying gdal-utils\\osgeo_utils\\samples\\get_soundg.py -> build\\lib.win-amd64-cpython-311\\osgeo_utils\\samples\n",
      "      copying gdal-utils\\osgeo_utils\\samples\\histrep.py -> build\\lib.win-amd64-cpython-311\\osgeo_utils\\samples\n",
      "      copying gdal-utils\\osgeo_utils\\samples\\hsv_merge.py -> build\\lib.win-amd64-cpython-311\\osgeo_utils\\samples\n",
      "      copying gdal-utils\\osgeo_utils\\samples\\jpeg_in_tiff_extract.py -> build\\lib.win-amd64-cpython-311\\osgeo_utils\\samples\n",
      "      copying gdal-utils\\osgeo_utils\\samples\\load2odbc.py -> build\\lib.win-amd64-cpython-311\\osgeo_utils\\samples\n",
      "      copying gdal-utils\\osgeo_utils\\samples\\loslas2ntv2.py -> build\\lib.win-amd64-cpython-311\\osgeo_utils\\samples\n",
      "      copying gdal-utils\\osgeo_utils\\samples\\magphase.py -> build\\lib.win-amd64-cpython-311\\osgeo_utils\\samples\n",
      "      copying gdal-utils\\osgeo_utils\\samples\\make_fuzzer_friendly_archive.py -> build\\lib.win-amd64-cpython-311\\osgeo_utils\\samples\n",
      "      copying gdal-utils\\osgeo_utils\\samples\\mkgraticule.py -> build\\lib.win-amd64-cpython-311\\osgeo_utils\\samples\n",
      "      copying gdal-utils\\osgeo_utils\\samples\\ogr2vrt.py -> build\\lib.win-amd64-cpython-311\\osgeo_utils\\samples\n",
      "      copying gdal-utils\\osgeo_utils\\samples\\ogrinfo.py -> build\\lib.win-amd64-cpython-311\\osgeo_utils\\samples\n",
      "      copying gdal-utils\\osgeo_utils\\samples\\ogrupdate.py -> build\\lib.win-amd64-cpython-311\\osgeo_utils\\samples\n",
      "      copying gdal-utils\\osgeo_utils\\samples\\ogr_build_junction_table.py -> build\\lib.win-amd64-cpython-311\\osgeo_utils\\samples\n",
      "      copying gdal-utils\\osgeo_utils\\samples\\ogr_dispatch.py -> build\\lib.win-amd64-cpython-311\\osgeo_utils\\samples\n",
      "      copying gdal-utils\\osgeo_utils\\samples\\rel.py -> build\\lib.win-amd64-cpython-311\\osgeo_utils\\samples\n",
      "      copying gdal-utils\\osgeo_utils\\samples\\tigerpoly.py -> build\\lib.win-amd64-cpython-311\\osgeo_utils\\samples\n",
      "      copying gdal-utils\\osgeo_utils\\samples\\tile_extent_from_raster.py -> build\\lib.win-amd64-cpython-311\\osgeo_utils\\samples\n",
      "      copying gdal-utils\\osgeo_utils\\samples\\tolatlong.py -> build\\lib.win-amd64-cpython-311\\osgeo_utils\\samples\n",
      "      copying gdal-utils\\osgeo_utils\\samples\\validate_cloud_optimized_geotiff.py -> build\\lib.win-amd64-cpython-311\\osgeo_utils\\samples\n",
      "      copying gdal-utils\\osgeo_utils\\samples\\validate_geoparquet.py -> build\\lib.win-amd64-cpython-311\\osgeo_utils\\samples\n",
      "      copying gdal-utils\\osgeo_utils\\samples\\validate_gpkg.py -> build\\lib.win-amd64-cpython-311\\osgeo_utils\\samples\n",
      "      copying gdal-utils\\osgeo_utils\\samples\\validate_jp2.py -> build\\lib.win-amd64-cpython-311\\osgeo_utils\\samples\n",
      "      copying gdal-utils\\osgeo_utils\\samples\\val_repl.py -> build\\lib.win-amd64-cpython-311\\osgeo_utils\\samples\n",
      "      copying gdal-utils\\osgeo_utils\\samples\\vec_tr.py -> build\\lib.win-amd64-cpython-311\\osgeo_utils\\samples\n",
      "      copying gdal-utils\\osgeo_utils\\samples\\vec_tr_spat.py -> build\\lib.win-amd64-cpython-311\\osgeo_utils\\samples\n",
      "      copying gdal-utils\\osgeo_utils\\samples\\wcs_virtds_params.py -> build\\lib.win-amd64-cpython-311\\osgeo_utils\\samples\n",
      "      copying gdal-utils\\osgeo_utils\\samples\\__init__.py -> build\\lib.win-amd64-cpython-311\\osgeo_utils\\samples\n",
      "      running egg_info\n",
      "      writing gdal-utils\\GDAL.egg-info\\PKG-INFO\n",
      "      writing dependency_links to gdal-utils\\GDAL.egg-info\\dependency_links.txt\n",
      "      writing entry points to gdal-utils\\GDAL.egg-info\\entry_points.txt\n",
      "      writing requirements to gdal-utils\\GDAL.egg-info\\requires.txt\n",
      "      writing top-level names to gdal-utils\\GDAL.egg-info\\top_level.txt\n",
      "      reading manifest file 'gdal-utils\\GDAL.egg-info\\SOURCES.txt'\n",
      "      writing manifest file 'gdal-utils\\GDAL.egg-info\\SOURCES.txt'\n",
      "      running build_ext\n",
      "      building 'osgeo._gdal' extension\n",
      "      building 'osgeo._gdalconst' extension\n",
      "      building 'osgeo._gnm' extension\n",
      "      building 'osgeo._osr' extension\n",
      "      building 'osgeo._gdal_array' extension\n",
      "      building 'osgeo._ogr' extension\n",
      "      creating build\\temp.win-amd64-cpython-311\n",
      "      creating build\\temp.win-amd64-cpython-311\n",
      "      creating build\\temp.win-amd64-cpython-311\n",
      "      creating build\\temp.win-amd64-cpython-311\\Release\n",
      "      creating build\\temp.win-amd64-cpython-311\\Release\n",
      "      creating build\\temp.win-amd64-cpython-311\\Release\n",
      "      creating build\\temp.win-amd64-cpython-311\\Release\n",
      "      creating build\\temp.win-amd64-cpython-311\\Release\\extensions\n",
      "      creating build\\temp.win-amd64-cpython-311\\Release\\extensions\n",
      "      creating build\\temp.win-amd64-cpython-311\\Release\\extensions\n",
      "      creating build\\temp.win-amd64-cpython-311\\Release\\extensions\n",
      "      creating build\\temp.win-amd64-cpython-311\\Release\\extensions\n",
      "      \"C:\\Program Files (x86)\\Microsoft Visual Studio\\2019\\BuildTools\\VC\\Tools\\MSVC\\14.29.30133\\bin\\HostX86\\x64\\cl.exe\" /c /nologo /O2 /W3 /GL /DNDEBUG /MD -Ic:\\Users\\eddyd\\AppData\\Local\\Programs\\Python\\Python311\\include -Ic:\\Users\\eddyd\\AppData\\Local\\Programs\\Python\\Python311\\Include -IC:\\Users\\eddyd\\AppData\\Local\\Temp\\pip-build-env-acaxltjo\\overlay\\Lib\\site-packages\\numpy\\_core\\include \"-IC:\\Program Files (x86)\\Microsoft Visual Studio\\2019\\BuildTools\\VC\\Tools\\MSVC\\14.29.30133\\include\" \"-IC:\\Program Files (x86)\\Windows Kits\\10\\include\\10.0.22000.0\\ucrt\" \"-IC:\\Program Files (x86)\\Windows Kits\\10\\include\\10.0.22000.0\\shared\" \"-IC:\\Program Files (x86)\\Windows Kits\\10\\include\\10.0.22000.0\\um\" \"-IC:\\Program Files (x86)\\Windows Kits\\10\\include\\10.0.22000.0\\winrt\" \"-IC:\\Program Files (x86)\\Windows Kits\\10\\include\\10.0.22000.0\\cppwinrt\" /EHsc /Tpextensions/osr_wrap.cpp /Fobuild\\temp.win-amd64-cpython-311\\Release\\extensions/osr_wrap.obj\n",
      "      \"C:\\Program Files (x86)\\Microsoft Visual Studio\\2019\\BuildTools\\VC\\Tools\\MSVC\\14.29.30133\\bin\\HostX86\\x64\\cl.exe\" /c /nologo /O2 /W3 /GL /DNDEBUG /MD -Ic:\\Users\\eddyd\\AppData\\Local\\Programs\\Python\\Python311\\include -Ic:\\Users\\eddyd\\AppData\\Local\\Programs\\Python\\Python311\\Include -IC:\\Users\\eddyd\\AppData\\Local\\Temp\\pip-build-env-acaxltjo\\overlay\\Lib\\site-packages\\numpy\\_core\\include \"-IC:\\Program Files (x86)\\Microsoft Visual Studio\\2019\\BuildTools\\VC\\Tools\\MSVC\\14.29.30133\\include\" \"-IC:\\Program Files (x86)\\Windows Kits\\10\\include\\10.0.22000.0\\ucrt\" \"-IC:\\Program Files (x86)\\Windows Kits\\10\\include\\10.0.22000.0\\shared\" \"-IC:\\Program Files (x86)\\Windows Kits\\10\\include\\10.0.22000.0\\um\" \"-IC:\\Program Files (x86)\\Windows Kits\\10\\include\\10.0.22000.0\\winrt\" \"-IC:\\Program Files (x86)\\Windows Kits\\10\\include\\10.0.22000.0\\cppwinrt\" /EHsc /Tpextensions/ogr_wrap.cpp /Fobuild\\temp.win-amd64-cpython-311\\Release\\extensions/ogr_wrap.obj\n",
      "      \"C:\\Program Files (x86)\\Microsoft Visual Studio\\2019\\BuildTools\\VC\\Tools\\MSVC\\14.29.30133\\bin\\HostX86\\x64\\cl.exe\" /c /nologo /O2 /W3 /GL /DNDEBUG /MD -Ic:\\Users\\eddyd\\AppData\\Local\\Programs\\Python\\Python311\\include -Ic:\\Users\\eddyd\\AppData\\Local\\Programs\\Python\\Python311\\Include -IC:\\Users\\eddyd\\AppData\\Local\\Temp\\pip-build-env-acaxltjo\\overlay\\Lib\\site-packages\\numpy\\_core\\include \"-IC:\\Program Files (x86)\\Microsoft Visual Studio\\2019\\BuildTools\\VC\\Tools\\MSVC\\14.29.30133\\include\" \"-IC:\\Program Files (x86)\\Windows Kits\\10\\include\\10.0.22000.0\\ucrt\" \"-IC:\\Program Files (x86)\\Windows Kits\\10\\include\\10.0.22000.0\\shared\" \"-IC:\\Program Files (x86)\\Windows Kits\\10\\include\\10.0.22000.0\\um\" \"-IC:\\Program Files (x86)\\Windows Kits\\10\\include\\10.0.22000.0\\winrt\" \"-IC:\\Program Files (x86)\\Windows Kits\\10\\include\\10.0.22000.0\\cppwinrt\" /EHsc /Tpextensions/gdal_array_wrap.cpp /Fobuild\\temp.win-amd64-cpython-311\\Release\\extensions/gdal_array_wrap.obj\n",
      "      \"C:\\Program Files (x86)\\Microsoft Visual Studio\\2019\\BuildTools\\VC\\Tools\\MSVC\\14.29.30133\\bin\\HostX86\\x64\\cl.exe\" /c /nologo /O2 /W3 /GL /DNDEBUG /MD -Ic:\\Users\\eddyd\\AppData\\Local\\Programs\\Python\\Python311\\include -Ic:\\Users\\eddyd\\AppData\\Local\\Programs\\Python\\Python311\\Include -IC:\\Users\\eddyd\\AppData\\Local\\Temp\\pip-build-env-acaxltjo\\overlay\\Lib\\site-packages\\numpy\\_core\\include \"-IC:\\Program Files (x86)\\Microsoft Visual Studio\\2019\\BuildTools\\VC\\Tools\\MSVC\\14.29.30133\\include\" \"-IC:\\Program Files (x86)\\Windows Kits\\10\\include\\10.0.22000.0\\ucrt\" \"-IC:\\Program Files (x86)\\Windows Kits\\10\\include\\10.0.22000.0\\shared\" \"-IC:\\Program Files (x86)\\Windows Kits\\10\\include\\10.0.22000.0\\um\" \"-IC:\\Program Files (x86)\\Windows Kits\\10\\include\\10.0.22000.0\\winrt\" \"-IC:\\Program Files (x86)\\Windows Kits\\10\\include\\10.0.22000.0\\cppwinrt\" /EHsc /Tpextensions/gnm_wrap.cpp /Fobuild\\temp.win-amd64-cpython-311\\Release\\extensions/gnm_wrap.obj\n",
      "      \"C:\\Program Files (x86)\\Microsoft Visual Studio\\2019\\BuildTools\\VC\\Tools\\MSVC\\14.29.30133\\bin\\HostX86\\x64\\cl.exe\" /c /nologo /O2 /W3 /GL /DNDEBUG /MD -Ic:\\Users\\eddyd\\AppData\\Local\\Programs\\Python\\Python311\\include -Ic:\\Users\\eddyd\\AppData\\Local\\Programs\\Python\\Python311\\Include -IC:\\Users\\eddyd\\AppData\\Local\\Temp\\pip-build-env-acaxltjo\\overlay\\Lib\\site-packages\\numpy\\_core\\include \"-IC:\\Program Files (x86)\\Microsoft Visual Studio\\2019\\BuildTools\\VC\\Tools\\MSVC\\14.29.30133\\include\" \"-IC:\\Program Files (x86)\\Windows Kits\\10\\include\\10.0.22000.0\\ucrt\" \"-IC:\\Program Files (x86)\\Windows Kits\\10\\include\\10.0.22000.0\\shared\" \"-IC:\\Program Files (x86)\\Windows Kits\\10\\include\\10.0.22000.0\\um\" \"-IC:\\Program Files (x86)\\Windows Kits\\10\\include\\10.0.22000.0\\winrt\" \"-IC:\\Program Files (x86)\\Windows Kits\\10\\include\\10.0.22000.0\\cppwinrt\" /EHsc /Tpextensions/gdal_wrap.cpp /Fobuild\\temp.win-amd64-cpython-311\\Release\\extensions/gdal_wrap.obj\n",
      "      \"C:\\Program Files (x86)\\Microsoft Visual Studio\\2019\\BuildTools\\VC\\Tools\\MSVC\\14.29.30133\\bin\\HostX86\\x64\\cl.exe\" /c /nologo /O2 /W3 /GL /DNDEBUG /MD -Ic:\\Users\\eddyd\\AppData\\Local\\Programs\\Python\\Python311\\include -Ic:\\Users\\eddyd\\AppData\\Local\\Programs\\Python\\Python311\\Include -IC:\\Users\\eddyd\\AppData\\Local\\Temp\\pip-build-env-acaxltjo\\overlay\\Lib\\site-packages\\numpy\\_core\\include \"-IC:\\Program Files (x86)\\Microsoft Visual Studio\\2019\\BuildTools\\VC\\Tools\\MSVC\\14.29.30133\\include\" \"-IC:\\Program Files (x86)\\Windows Kits\\10\\include\\10.0.22000.0\\ucrt\" \"-IC:\\Program Files (x86)\\Windows Kits\\10\\include\\10.0.22000.0\\shared\" \"-IC:\\Program Files (x86)\\Windows Kits\\10\\include\\10.0.22000.0\\um\" \"-IC:\\Program Files (x86)\\Windows Kits\\10\\include\\10.0.22000.0\\winrt\" \"-IC:\\Program Files (x86)\\Windows Kits\\10\\include\\10.0.22000.0\\cppwinrt\" /Tcextensions/gdalconst_wrap.c /Fobuild\\temp.win-amd64-cpython-311\\Release\\extensions/gdalconst_wrap.obj\n",
      "      osr_wrap.cpp\n",
      "      ogr_wrap.cpp\n",
      "      gnm_wrap.cpp\n",
      "      gdal_wrap.cpp\n",
      "      gdalconst_wrap.c\n",
      "      gdal_array_wrap.cpp\n",
      "      extensions/gdalconst_wrap.c(3013): fatal error C1083: ЌҐ г¤ Ґвбп ®вЄалвм д ©« ўЄ«озҐ­ЁҐ: gdal.h: No such file or directory,\n",
      "      extensions/gdal_array_wrap.cpp(3156): fatal error C1083: ЌҐ г¤ Ґвбп ®вЄалвм д ©« ўЄ«озҐ­ЁҐ: gdal.h: No such file or directory,\n",
      "      extensions/ogr_wrap.cpp(3183): fatal error C1083: ЌҐ г¤ Ґвбп ®вЄалвм д ©« ўЄ«озҐ­ЁҐ: gdal.h: No such file or directory,\n",
      "      extensions/gdal_wrap.cpp(3226): fatal error C1083: ЌҐ г¤ Ґвбп ®вЄалвм д ©« ўЄ«озҐ­ЁҐ: cpl_port.h: No such file or directory,\n",
      "      extensions/gnm_wrap.cpp(3153): fatal error C1083: ЌҐ г¤ Ґвбп ®вЄалвм д ©« ўЄ«озҐ­ЁҐ: gdal.h: No such file or directory,\n",
      "      extensions/osr_wrap.cpp(3213): fatal error C1083: ЌҐ г¤ Ґвбп ®вЄалвм д ©« ўЄ«озҐ­ЁҐ: cpl_string.h: No such file or directory,\n",
      "      error: command 'C:\\\\Program Files (x86)\\\\Microsoft Visual Studio\\\\2019\\\\BuildTools\\\\VC\\\\Tools\\\\MSVC\\\\14.29.30133\\\\bin\\\\HostX86\\\\x64\\\\cl.exe' failed with exit code 2\n",
      "      [end of output]\n",
      "  \n",
      "  note: This error originates from a subprocess, and is likely not a problem with pip.\n",
      "  ERROR: Failed building wheel for gdal\n",
      "ERROR: Could not build wheels for gdal, which is required to install pyproject.toml-based projects\n"
     ]
    }
   ],
   "source": [
    "!pip install gdal"
   ]
  },
  {
   "cell_type": "markdown",
   "metadata": {},
   "source": [
    "# Импорт необходимых модулей"
   ]
  },
  {
   "cell_type": "code",
   "execution_count": null,
   "metadata": {},
   "outputs": [],
   "source": [
    "import cv2\n",
    "import numpy as np\n",
    "from tensorflow.keras.applications.vgg16 import VGG16, preprocess_input\n",
    "from tensorflow.keras.models import Model\n",
    "from sklearn.preprocessing import StandardScaler\n",
    "from sklearn.svm import SVC\n",
    "from sklearn.model_selection import train_test_split\n",
    "from sklearn.metrics import accuracy_score\n",
    "import os\n",
    "import joblib\n",
    "import numpy as np\n",
    "import matplotlib.pyplot as plt\n",
    "from osgeo import gdal, osr\n",
    "import json"
   ]
  },
  {
   "cell_type": "code",
   "execution_count": null,
   "metadata": {},
   "outputs": [],
   "source": [
    "#import os\n",
    "#os.environ['USE_PATH_FOR_GDAL_PYTHON'] = 'YES'\n",
    "\n",
    "#from osgeo import gdal, osr\n"
   ]
  },
  {
   "cell_type": "markdown",
   "metadata": {},
   "source": [
    "# Константы"
   ]
  },
  {
   "cell_type": "code",
   "execution_count": null,
   "metadata": {},
   "outputs": [],
   "source": [
    "# Название папки с изображениями - кропами\n",
    "crops_folder = '1_20'\n",
    "\n",
    "# Название папки с файлами подложек\n",
    "template_folder = 'layouts'\n"
   ]
  },
  {
   "cell_type": "markdown",
   "metadata": {},
   "source": [
    "# Определение номера подложки для каждого файла кропа"
   ]
  },
  {
   "cell_type": "code",
   "execution_count": null,
   "metadata": {},
   "outputs": [],
   "source": [
    "# Загрузка предобученной модели VGG16\n",
    "base_model = VGG16(weights='imagenet', include_top=True)\n",
    "model = Model(inputs=base_model.input, outputs=base_model.get_layer('fc1').output)\n",
    "\n",
    "# Функция для извлечения признаков\n",
    "def extract_features(image_path, model):\n",
    "    image = cv2.imread(image_path)\n",
    "    image = cv2.resize(image, (224, 224))  # Изменение размера изображения до 224x224\n",
    "    image = preprocess_input(image)  # Предобработка изображения для VGG16\n",
    "    features = model.predict(np.expand_dims(image, axis=0))  # Извлечение признаков\n",
    "    return features.flatten()\n"
   ]
  },
  {
   "cell_type": "markdown",
   "metadata": {},
   "source": [
    "## Считывание путей к файлам"
   ]
  },
  {
   "cell_type": "code",
   "execution_count": null,
   "metadata": {},
   "outputs": [],
   "source": [
    "# Определение корневой папки проекта\n",
    "root_folder = os.getcwd()\n",
    "\n",
    "# Полные пути к папкам\n",
    "crops_path = os.path.join(root_folder, crops_folder)\n",
    "template_path = os.path.join(root_folder, template_folder)\n",
    "\n",
    "# Получение списка файлов в папках\n",
    "crops_files = [os.path.join(crops_path, f) for f in os.listdir(crops_path) if os.path.isfile(os.path.join(crops_path, f))]\n",
    "template_files = [os.path.join(template_path, f) for f in os.listdir(template_path) if os.path.isfile(os.path.join(template_path, f))]\n",
    "\n",
    "# Печать количества файлов\n",
    "print(f\"Количество кропов в папке '{crops_folder}': {len(crops_files)}\")\n",
    "print(f\"Количество подложек в папке '{template_folder}': {len(template_files)}\")\n",
    "\n",
    "# Печать путей к файлам\n",
    "print(\"\\nПути к изображениям:\")\n",
    "for path in crops_files:\n",
    "    print(path)\n",
    "\n",
    "print(\"\\nПути к подложкам:\")\n",
    "for path in template_files:\n",
    "    print(path)\n"
   ]
  },
  {
   "cell_type": "markdown",
   "metadata": {},
   "source": [
    "## Подготовка модуля ИИ  \n",
    "для определения номера подложки"
   ]
  },
  {
   "cell_type": "code",
   "execution_count": null,
   "metadata": {},
   "outputs": [],
   "source": [
    "# Создание меток для обучения из списка файлов подложек\n",
    "labels = list(range(len(template_files)))"
   ]
  },
  {
   "cell_type": "code",
   "execution_count": null,
   "metadata": {},
   "outputs": [],
   "source": [
    "labels"
   ]
  },
  {
   "cell_type": "code",
   "execution_count": null,
   "metadata": {},
   "outputs": [],
   "source": [
    "# Извлечение признаков для всех изображений\n",
    "image_features = [extract_features(path, model) for path in crops_files]\n",
    "\n",
    "# Извлечение признаков для всех подложек\n",
    "template_features = [extract_features(path, model) for path in template_files]\n",
    "\n",
    "# Создание и обучение стандартного скейлера\n",
    "scaler = StandardScaler()\n",
    "image_features = scaler.fit_transform(image_features)\n",
    "template_features = scaler.transform(template_features)\n",
    "\n",
    "# Подготовка данных для обучения\n",
    "X = template_features\n",
    "y = labels\n",
    "\n",
    "# Разделение данных на тренировочную и тестовую выборки\n",
    "X_train, X_test, y_train, y_test = train_test_split(X, y, test_size=0.2, random_state=42)\n",
    "\n",
    "# Обучение модели SVM\n",
    "classifier = SVC(kernel='linear')\n",
    "classifier.fit(X_train, y_train)\n",
    "\n",
    "# Проверка точности модели на тестовой выборке\n",
    "y_pred = classifier.predict(X_test)\n",
    "accuracy = accuracy_score(y_test, y_pred)\n",
    "print(f'Точность модели: {accuracy * 100:.2f}%')"
   ]
  },
  {
   "cell_type": "markdown",
   "metadata": {},
   "source": [
    "## Сохраним модель на диск"
   ]
  },
  {
   "cell_type": "code",
   "execution_count": null,
   "metadata": {},
   "outputs": [],
   "source": [
    "# Сохранение модели и скейлера\n",
    "joblib.dump(classifier, os.path.join(root_folder, 'svm_classifier.joblib'))\n",
    "joblib.dump(scaler, os.path.join(root_folder, 'scaler.joblib'))"
   ]
  },
  {
   "cell_type": "markdown",
   "metadata": {},
   "source": [
    "## Загрузка сохранённой модели"
   ]
  },
  {
   "cell_type": "code",
   "execution_count": null,
   "metadata": {},
   "outputs": [],
   "source": [
    "# Определение корневой папки проекта\n",
    "root_folder = os.getcwd()\n",
    "\n",
    "# Загрузка модели и скейлера\n",
    "classifier = joblib.load(os.path.join(root_folder, 'svm_classifier.joblib'))\n",
    "scaler = joblib.load(os.path.join(root_folder, 'scaler.joblib'))"
   ]
  },
  {
   "cell_type": "markdown",
   "metadata": {},
   "source": [
    "## Функция определения подложки  \n",
    "с примера использования"
   ]
  },
  {
   "cell_type": "code",
   "execution_count": null,
   "metadata": {},
   "outputs": [],
   "source": [
    "# Функция для предсказания подложки\n",
    "def predict_template(image_path, model, scaler, classifier):\n",
    "    features = extract_features(image_path, model)\n",
    "    features = scaler.transform([features])\n",
    "    template_index = classifier.predict(features)[0]\n",
    "    return template_index\n",
    "\n",
    "# Путь к новому изображению для теста\n",
    "test_image_path = r'D:\\18\\1_20\\crop_3_3_0000.tif'\n",
    "\n",
    "# Предсказание подложки\n",
    "predicted_template_index = predict_template(test_image_path, model, scaler, classifier)\n",
    "print(f'Предсказанный индекс подложки: {predicted_template_index}')"
   ]
  },
  {
   "cell_type": "code",
   "execution_count": null,
   "metadata": {},
   "outputs": [],
   "source": [
    "# файл кропа берём из списка\n",
    "test_image_path = crops_files[5]\n",
    "# Предсказание подложки\n",
    "predicted_template_index = predict_template(test_image_path, model, scaler, classifier)\n",
    "print(f'Предсказанный индекс подложки: {predicted_template_index}')\n"
   ]
  },
  {
   "cell_type": "markdown",
   "metadata": {},
   "source": [
    "## Выведем подложки для всех файлов кропов"
   ]
  },
  {
   "cell_type": "code",
   "execution_count": null,
   "metadata": {},
   "outputs": [],
   "source": [
    "# Предсказание подложки для всех элементов списка crops_files\n",
    "predicted_indices = []\n",
    "for test_image_path in crops_files:\n",
    "    predicted_template_index = predict_template(test_image_path, model, scaler, classifier)\n",
    "    predicted_indices.append(predicted_template_index)\n",
    "   # print(f'Путь к изображению: {test_image_path} -> Предсказанный индекс подложки: {predicted_template_index}')\n",
    "\n",
    "# Вывод всех предсказанных индексов\n",
    "print(\"\\nВсе предсказанные индексы подложек:\")\n",
    "for i, predicted_index in enumerate(predicted_indices):\n",
    "    print(f'Кроп {i}: {predicted_index}')"
   ]
  },
  {
   "cell_type": "markdown",
   "metadata": {},
   "source": [
    "### да. постановщик задачи говорил, что все кропы нам даны с одной подложки"
   ]
  },
  {
   "cell_type": "markdown",
   "metadata": {},
   "source": [
    "# Определение координат кропа"
   ]
  },
  {
   "cell_type": "markdown",
   "metadata": {},
   "source": [
    "## Реcемплинг и выравнивание изображений"
   ]
  },
  {
   "cell_type": "code",
   "execution_count": null,
   "metadata": {},
   "outputs": [],
   "source": [
    "# Открываем изображение и референсное изображение\n",
    "image_path = \"D:\\\\18\\\\1_20\\\\crop_1_0_0000.tif\"\n",
    "reference_path = \"D:\\\\18\\\\layouts\\\\layout_2021-08-16.tif\""
   ]
  },
  {
   "cell_type": "code",
   "execution_count": null,
   "metadata": {},
   "outputs": [],
   "source": [
    "# Открываем исходное изображение и считываем его данные\n",
    "image = gdal.Open(image_path)\n",
    "reference = gdal.Open(reference_path)"
   ]
  },
  {
   "cell_type": "code",
   "execution_count": null,
   "metadata": {},
   "outputs": [],
   "source": [
    "# Получаем информацию о проекциях\n",
    "image_proj = osr.SpatialReference(wkt=image.GetProjection())\n",
    "reference_proj = osr.SpatialReference(wkt=reference.GetProjection())"
   ]
  },
  {
   "cell_type": "code",
   "execution_count": null,
   "metadata": {},
   "outputs": [],
   "source": [
    "# Трансформируем координаты углов исходного изображения в систему координат EPSG:32637\n",
    "transform = osr.CoordinateTransformation(reference_proj, image_proj)"
   ]
  },
  {
   "cell_type": "markdown",
   "metadata": {},
   "source": [
    "### Функция извлечения геокоординат "
   ]
  },
  {
   "cell_type": "code",
   "execution_count": null,
   "metadata": {},
   "outputs": [],
   "source": [
    "def get_corner_coords(dataset):\n",
    "    geo_transform = dataset.GetGeoTransform()\n",
    "    x_min = geo_transform[0]\n",
    "    x_max = x_min + geo_transform[1] * dataset.RasterXSize\n",
    "    y_min = geo_transform[3] + geo_transform[5] * dataset.RasterYSize\n",
    "    y_max = geo_transform[3]\n",
    "\n",
    "    return [(x_min, y_max), (x_max, y_max), (x_max, y_min), (x_min, y_min)]"
   ]
  },
  {
   "cell_type": "markdown",
   "metadata": {},
   "source": [
    "### Извлекаем геокоординаты и трансформируем"
   ]
  },
  {
   "cell_type": "code",
   "execution_count": null,
   "metadata": {},
   "outputs": [],
   "source": [
    "corners = get_corner_coords(reference)\n",
    "corners_transformed = [transform.TransformPoint(corner[0], corner[1]) for corner in corners]\n"
   ]
  },
  {
   "cell_type": "code",
   "execution_count": null,
   "metadata": {},
   "outputs": [],
   "source": [
    "# Записываем координаты в текстовый файл\n",
    "with open(\"corners_coordinates.txt\", \"w\") as file:\n",
    "    for corner in corners_transformed:\n",
    "        file.write(f\"{corner[0]:.3f}; {corner[1]:.3f}\\n\")"
   ]
  },
  {
   "cell_type": "code",
   "execution_count": null,
   "metadata": {},
   "outputs": [],
   "source": [
    "# Создаем GeoJSON\n",
    "\n",
    "geojson_data = {\n",
    "    \"type\": \"Polygon\",\n",
    "    \"coordinates\": [[\n",
    "        [corner[0], corner[1]] for corner in corners_transformed\n",
    "    ]]\n",
    "}\n",
    "\n",
    "with open(\"corners_coordinates.geojson\", \"w\") as file:\n",
    "    json.dump(geojson_data, file)"
   ]
  },
  {
   "cell_type": "code",
   "execution_count": null,
   "metadata": {},
   "outputs": [],
   "source": [
    "# Перепроецируем изображение в EPSG:32637\n",
    "output_path = \"output_image.tif\"\n",
    "gdal.Warp(output_path, image, dstSRS=\"EPSG:32637\")"
   ]
  },
  {
   "cell_type": "code",
   "execution_count": null,
   "metadata": {},
   "outputs": [],
   "source": [
    "type(image)"
   ]
  },
  {
   "cell_type": "code",
   "execution_count": null,
   "metadata": {},
   "outputs": [],
   "source": [
    "type(gdal.Warp(output_path, image, dstSRS=\"EPSG:32637\"))"
   ]
  },
  {
   "cell_type": "markdown",
   "metadata": {},
   "source": [
    "### визуализируем изображения"
   ]
  },
  {
   "cell_type": "code",
   "execution_count": null,
   "metadata": {},
   "outputs": [],
   "source": [
    "# исходное\n",
    "\n",
    "\n",
    "# Открываем изображение\n",
    "image_path = \"D:\\\\18\\\\1_20\\\\crop_1_0_0000.tif\"\n",
    "image = gdal.Open(image_path)\n",
    "\n",
    "# Проверка типа объекта\n",
    "print(type(image))  # <class 'osgeo.gdal.Dataset'>\n",
    "\n",
    "# Считывание данных из каналов\n",
    "r_band = image.GetRasterBand(1).ReadAsArray()\n",
    "g_band = image.GetRasterBand(2).ReadAsArray()\n",
    "b_band = image.GetRasterBand(3).ReadAsArray()\n",
    "nir_band = image.GetRasterBand(4).ReadAsArray()\n",
    "\n",
    "# Нормализация данных для визуализации\n",
    "r_band = (r_band - r_band.min()) / (r_band.max() - r_band.min())\n",
    "g_band = (g_band - g_band.min()) / (g_band.max() - g_band.min())\n",
    "b_band = (b_band - b_band.min()) / (b_band.max() - b_band.min())\n",
    "nir_band = (nir_band - nir_band.min()) / (nir_band.max() - nir_band.min())\n",
    "\n",
    "# Создание композитного изображения RGB\n",
    "rgb_image = np.dstack((r_band, g_band, b_band))\n",
    "\n",
    "# Визуализация каналов и композитного изображения\n",
    "fig, axs = plt.subplots(2, 2, figsize=(10, 10))\n",
    "\n",
    "axs[0, 0].imshow(r_band, cmap='Reds')\n",
    "axs[0, 0].set_title('Red Channel')\n",
    "axs[0, 0].axis('off')\n",
    "\n",
    "axs[0, 1].imshow(g_band, cmap='Greens')\n",
    "axs[0, 1].set_title('Green Channel')\n",
    "axs[0, 1].axis('off')\n",
    "\n",
    "axs[1, 0].imshow(b_band, cmap='Blues')\n",
    "axs[1, 0].set_title('Blue Channel')\n",
    "axs[1, 0].axis('off')\n",
    "\n",
    "axs[1, 1].imshow(rgb_image)\n",
    "axs[1, 1].set_title('RGB Composite')\n",
    "axs[1, 1].axis('off')\n",
    "\n",
    "plt.tight_layout()\n",
    "plt.show()\n"
   ]
  },
  {
   "cell_type": "code",
   "execution_count": null,
   "metadata": {},
   "outputs": [],
   "source": [
    "# трансформированное\n",
    "image = gdal.Warp(output_path, image, dstSRS=\"EPSG:32637\")\n",
    "\n",
    "# Проверка типа объекта\n",
    "print(type(image))  # <class 'osgeo.gdal.Dataset'>\n",
    "\n",
    "# Считывание данных из каналов\n",
    "r_band = image.GetRasterBand(1).ReadAsArray()\n",
    "g_band = image.GetRasterBand(2).ReadAsArray()\n",
    "b_band = image.GetRasterBand(3).ReadAsArray()\n",
    "nir_band = image.GetRasterBand(4).ReadAsArray()\n",
    "\n",
    "# Нормализация данных для визуализации\n",
    "r_band = (r_band - r_band.min()) / (r_band.max() - r_band.min())\n",
    "g_band = (g_band - g_band.min()) / (g_band.max() - g_band.min())\n",
    "b_band = (b_band - b_band.min()) / (b_band.max() - b_band.min())\n",
    "nir_band = (nir_band - nir_band.min()) / (nir_band.max() - nir_band.min())\n",
    "\n",
    "# Создание композитного изображения RGB\n",
    "rgb_image = np.dstack((r_band, g_band, b_band))\n",
    "\n",
    "# Визуализация каналов и композитного изображения\n",
    "fig, axs = plt.subplots(2, 2, figsize=(10, 10))\n",
    "\n",
    "axs[0, 0].imshow(r_band, cmap='Reds')\n",
    "axs[0, 0].set_title('Red Channel')\n",
    "axs[0, 0].axis('off')\n",
    "\n",
    "axs[0, 1].imshow(g_band, cmap='Greens')\n",
    "axs[0, 1].set_title('Green Channel')\n",
    "axs[0, 1].axis('off')\n",
    "\n",
    "axs[1, 0].imshow(b_band, cmap='Blues')\n",
    "axs[1, 0].set_title('Blue Channel')\n",
    "axs[1, 0].axis('off')\n",
    "\n",
    "axs[1, 1].imshow(rgb_image)\n",
    "axs[1, 1].set_title('RGB Composite')\n",
    "axs[1, 1].axis('off')\n",
    "\n",
    "plt.tight_layout()\n",
    "plt.show()\n"
   ]
  },
  {
   "cell_type": "code",
   "execution_count": null,
   "metadata": {},
   "outputs": [],
   "source": [
    "# визуализация подложек\n",
    "\n",
    "image= gdal.Open(template_files[0])\n",
    "\n",
    "# Проверка типа объекта\n",
    "print(type(image))  # <class 'osgeo.gdal.Dataset'>\n",
    "\n",
    "# Считывание данных из каналов\n",
    "r_band = image.GetRasterBand(1).ReadAsArray()\n",
    "g_band = image.GetRasterBand(2).ReadAsArray()\n",
    "b_band = image.GetRasterBand(3).ReadAsArray()\n",
    "nir_band = image.GetRasterBand(4).ReadAsArray()\n",
    "\n",
    "# Нормализация данных для визуализации\n",
    "r_band = (r_band - r_band.min()) / (r_band.max() - r_band.min())\n",
    "g_band = (g_band - g_band.min()) / (g_band.max() - g_band.min())\n",
    "b_band = (b_band - b_band.min()) / (b_band.max() - b_band.min())\n",
    "nir_band = (nir_band - nir_band.min()) / (nir_band.max() - nir_band.min())\n",
    "\n",
    "# Создание композитного изображения RGB\n",
    "rgb_image = np.dstack((r_band, g_band, b_band))\n",
    "\n",
    "# Визуализация каналов и композитного изображения\n",
    "fig, axs = plt.subplots(2, 2, figsize=(10, 10))\n",
    "\n",
    "axs[0, 0].imshow(r_band, cmap='Reds')\n",
    "axs[0, 0].set_title('Red Channel')\n",
    "axs[0, 0].axis('off')\n",
    "\n",
    "axs[0, 1].imshow(g_band, cmap='Greens')\n",
    "axs[0, 1].set_title('Green Channel')\n",
    "axs[0, 1].axis('off')\n",
    "\n",
    "axs[1, 0].imshow(b_band, cmap='Blues')\n",
    "axs[1, 0].set_title('Blue Channel')\n",
    "axs[1, 0].axis('off')\n",
    "\n",
    "axs[1, 1].imshow(rgb_image)\n",
    "axs[1, 1].set_title('RGB Composite')\n",
    "axs[1, 1].axis('off')\n",
    "\n",
    "plt.tight_layout()\n",
    "plt.show()\n"
   ]
  },
  {
   "cell_type": "code",
   "execution_count": null,
   "metadata": {},
   "outputs": [],
   "source": [
    "# визуализация подложек\n",
    "\n",
    "image = gdal.Open(template_files[1])\n",
    "\n",
    "# Проверка типа объекта\n",
    "print(type(image))  # <class 'osgeo.gdal.Dataset'>\n",
    "\n",
    "# Считывание данных из каналов\n",
    "r_band = image.GetRasterBand(1).ReadAsArray()\n",
    "g_band = image.GetRasterBand(2).ReadAsArray()\n",
    "b_band = image.GetRasterBand(3).ReadAsArray()\n",
    "nir_band = image.GetRasterBand(4).ReadAsArray()\n",
    "\n",
    "# Нормализация данных для визуализации\n",
    "r_band = (r_band - r_band.min()) / (r_band.max() - r_band.min())\n",
    "g_band = (g_band - g_band.min()) / (g_band.max() - g_band.min())\n",
    "b_band = (b_band - b_band.min()) / (b_band.max() - b_band.min())\n",
    "nir_band = (nir_band - nir_band.min()) / (nir_band.max() - nir_band.min())\n",
    "\n",
    "# Создание композитного изображения RGB\n",
    "rgb_image = np.dstack((r_band, g_band, b_band))\n",
    "\n",
    "# Визуализация каналов и композитного изображения\n",
    "fig, axs = plt.subplots(2, 2, figsize=(10, 10))\n",
    "\n",
    "axs[0, 0].imshow(r_band, cmap='Reds')\n",
    "axs[0, 0].set_title('Red Channel')\n",
    "axs[0, 0].axis('off')\n",
    "\n",
    "axs[0, 1].imshow(g_band, cmap='Greens')\n",
    "axs[0, 1].set_title('Green Channel')\n",
    "axs[0, 1].axis('off')\n",
    "\n",
    "axs[1, 0].imshow(b_band, cmap='Blues')\n",
    "axs[1, 0].set_title('Blue Channel')\n",
    "axs[1, 0].axis('off')\n",
    "\n",
    "axs[1, 1].imshow(rgb_image)\n",
    "axs[1, 1].set_title('RGB Composite')\n",
    "axs[1, 1].axis('off')\n",
    "\n",
    "plt.tight_layout()\n",
    "plt.show()\n"
   ]
  },
  {
   "cell_type": "code",
   "execution_count": null,
   "metadata": {},
   "outputs": [],
   "source": [
    "# визуализация подложек\n",
    "\n",
    "image= gdal.Open(template_files[2])\n",
    "\n",
    "# Проверка типа объекта\n",
    "print(type(image))  # <class 'osgeo.gdal.Dataset'>\n",
    "\n",
    "# Считывание данных из каналов\n",
    "r_band = image.GetRasterBand(1).ReadAsArray()\n",
    "g_band = image.GetRasterBand(2).ReadAsArray()\n",
    "b_band = image.GetRasterBand(3).ReadAsArray()\n",
    "nir_band = image.GetRasterBand(4).ReadAsArray()\n",
    "\n",
    "# Нормализация данных для визуализации\n",
    "r_band = (r_band - r_band.min()) / (r_band.max() - r_band.min())\n",
    "g_band = (g_band - g_band.min()) / (g_band.max() - g_band.min())\n",
    "b_band = (b_band - b_band.min()) / (b_band.max() - b_band.min())\n",
    "nir_band = (nir_band - nir_band.min()) / (nir_band.max() - nir_band.min())\n",
    "\n",
    "# Создание композитного изображения RGB\n",
    "rgb_image = np.dstack((r_band, g_band, b_band))\n",
    "\n",
    "# Визуализация каналов и композитного изображения\n",
    "fig, axs = plt.subplots(2, 2, figsize=(10, 10))\n",
    "\n",
    "axs[0, 0].imshow(r_band, cmap='Reds')\n",
    "axs[0, 0].set_title('Red Channel')\n",
    "axs[0, 0].axis('off')\n",
    "\n",
    "axs[0, 1].imshow(g_band, cmap='Greens')\n",
    "axs[0, 1].set_title('Green Channel')\n",
    "axs[0, 1].axis('off')\n",
    "\n",
    "axs[1, 0].imshow(b_band, cmap='Blues')\n",
    "axs[1, 0].set_title('Blue Channel')\n",
    "axs[1, 0].axis('off')\n",
    "\n",
    "axs[1, 1].imshow(rgb_image)\n",
    "axs[1, 1].set_title('RGB Composite')\n",
    "axs[1, 1].axis('off')\n",
    "\n",
    "plt.tight_layout()\n",
    "plt.show()\n"
   ]
  },
  {
   "cell_type": "code",
   "execution_count": null,
   "metadata": {},
   "outputs": [],
   "source": [
    "# визуализация подложек\n",
    "\n",
    "image= gdal.Open(template_files[3])\n",
    "\n",
    "# Проверка типа объекта\n",
    "print(type(image))  # <class 'osgeo.gdal.Dataset'>\n",
    "\n",
    "# Считывание данных из каналов\n",
    "r_band = image.GetRasterBand(1).ReadAsArray()\n",
    "g_band = image.GetRasterBand(2).ReadAsArray()\n",
    "b_band = image.GetRasterBand(3).ReadAsArray()\n",
    "nir_band = image.GetRasterBand(4).ReadAsArray()\n",
    "\n",
    "# Нормализация данных для визуализации\n",
    "r_band = (r_band - r_band.min()) / (r_band.max() - r_band.min())\n",
    "g_band = (g_band - g_band.min()) / (g_band.max() - g_band.min())\n",
    "b_band = (b_band - b_band.min()) / (b_band.max() - b_band.min())\n",
    "nir_band = (nir_band - nir_band.min()) / (nir_band.max() - nir_band.min())\n",
    "\n",
    "# Создание композитного изображения RGB\n",
    "rgb_image = np.dstack((r_band, g_band, b_band))\n",
    "\n",
    "# Визуализация каналов и композитного изображения\n",
    "fig, axs = plt.subplots(2, 2, figsize=(10, 10))\n",
    "\n",
    "axs[0, 0].imshow(r_band, cmap='Reds')\n",
    "axs[0, 0].set_title('Red Channel')\n",
    "axs[0, 0].axis('off')\n",
    "\n",
    "axs[0, 1].imshow(g_band, cmap='Greens')\n",
    "axs[0, 1].set_title('Green Channel')\n",
    "axs[0, 1].axis('off')\n",
    "\n",
    "axs[1, 0].imshow(b_band, cmap='Blues')\n",
    "axs[1, 0].set_title('Blue Channel')\n",
    "axs[1, 0].axis('off')\n",
    "\n",
    "axs[1, 1].imshow(rgb_image)\n",
    "axs[1, 1].set_title('RGB Composite')\n",
    "axs[1, 1].axis('off')\n",
    "\n",
    "plt.tight_layout()\n",
    "plt.show()\n"
   ]
  },
  {
   "cell_type": "code",
   "execution_count": null,
   "metadata": {},
   "outputs": [],
   "source": [
    "# визуализация кропов\n",
    "\n",
    "image = gdal.Open(crops_files[0])\n",
    "\n",
    "# Проверка типа объекта\n",
    "print(type(image))  # <class 'osgeo.gdal.Dataset'>\n",
    "\n",
    "# Считывание данных из каналов\n",
    "r_band = image.GetRasterBand(1).ReadAsArray()\n",
    "g_band = image.GetRasterBand(2).ReadAsArray()\n",
    "b_band = image.GetRasterBand(3).ReadAsArray()\n",
    "nir_band = image.GetRasterBand(4).ReadAsArray()\n",
    "\n",
    "# Нормализация данных для визуализации\n",
    "r_band = (r_band - r_band.min()) / (r_band.max() - r_band.min())\n",
    "g_band = (g_band - g_band.min()) / (g_band.max() - g_band.min())\n",
    "b_band = (b_band - b_band.min()) / (b_band.max() - b_band.min())\n",
    "nir_band = (nir_band - nir_band.min()) / (nir_band.max() - nir_band.min())\n",
    "\n",
    "# Создание композитного изображения RGB\n",
    "rgb_image = np.dstack((r_band, g_band, b_band))\n",
    "\n",
    "# Визуализация каналов и композитного изображения\n",
    "fig, axs = plt.subplots(2, 2, figsize=(10, 10))\n",
    "\n",
    "axs[0, 0].imshow(r_band, cmap='Reds')\n",
    "axs[0, 0].set_title('Red Channel')\n",
    "axs[0, 0].axis('off')\n",
    "\n",
    "axs[0, 1].imshow(g_band, cmap='Greens')\n",
    "axs[0, 1].set_title('Green Channel')\n",
    "axs[0, 1].axis('off')\n",
    "\n",
    "axs[1, 0].imshow(b_band, cmap='Blues')\n",
    "axs[1, 0].set_title('Blue Channel')\n",
    "axs[1, 0].axis('off')\n",
    "\n",
    "axs[1, 1].imshow(rgb_image)\n",
    "axs[1, 1].set_title('RGB Composite')\n",
    "axs[1, 1].axis('off')\n",
    "\n",
    "plt.tight_layout()\n",
    "plt.show()\n"
   ]
  },
  {
   "cell_type": "code",
   "execution_count": null,
   "metadata": {},
   "outputs": [],
   "source": [
    "# визуализация кропов\n",
    "\n",
    "image = gdal.Open(crops_files[9])\n",
    "\n",
    "# Проверка типа объекта\n",
    "print(type(image))  # <class 'osgeo.gdal.Dataset'>\n",
    "\n",
    "# Считывание данных из каналов\n",
    "r_band = image.GetRasterBand(1).ReadAsArray()\n",
    "g_band = image.GetRasterBand(2).ReadAsArray()\n",
    "b_band = image.GetRasterBand(3).ReadAsArray()\n",
    "nir_band = image.GetRasterBand(4).ReadAsArray()\n",
    "\n",
    "# Нормализация данных для визуализации\n",
    "r_band = (r_band - r_band.min()) / (r_band.max() - r_band.min())\n",
    "g_band = (g_band - g_band.min()) / (g_band.max() - g_band.min())\n",
    "b_band = (b_band - b_band.min()) / (b_band.max() - b_band.min())\n",
    "nir_band = (nir_band - nir_band.min()) / (nir_band.max() - nir_band.min())\n",
    "\n",
    "# Создание композитного изображения RGB\n",
    "rgb_image = np.dstack((r_band, g_band, b_band))\n",
    "\n",
    "# Визуализация каналов и композитного изображения\n",
    "fig, axs = plt.subplots(2, 2, figsize=(10, 10))\n",
    "\n",
    "axs[0, 0].imshow(r_band, cmap='Reds')\n",
    "axs[0, 0].set_title('Red Channel')\n",
    "axs[0, 0].axis('off')\n",
    "\n",
    "axs[0, 1].imshow(g_band, cmap='Greens')\n",
    "axs[0, 1].set_title('Green Channel')\n",
    "axs[0, 1].axis('off')\n",
    "\n",
    "axs[1, 0].imshow(b_band, cmap='Blues')\n",
    "axs[1, 0].set_title('Blue Channel')\n",
    "axs[1, 0].axis('off')\n",
    "\n",
    "axs[1, 1].imshow(rgb_image)\n",
    "axs[1, 1].set_title('RGB Composite')\n",
    "axs[1, 1].axis('off')\n",
    "\n",
    "plt.tight_layout()\n",
    "plt.show()\n"
   ]
  },
  {
   "cell_type": "code",
   "execution_count": null,
   "metadata": {},
   "outputs": [],
   "source": [
    "# визуализация кропов\n",
    "\n",
    "image = gdal.Open(crops_files[0])\n",
    "\n",
    "# Проверка типа объекта\n",
    "print(type(image))  # <class 'osgeo.gdal.Dataset'>\n",
    "\n",
    "# Считывание данных из каналов\n",
    "r_band = image.GetRasterBand(1).ReadAsArray()\n",
    "g_band = image.GetRasterBand(2).ReadAsArray()\n",
    "b_band = image.GetRasterBand(3).ReadAsArray()\n",
    "nir_band = image.GetRasterBand(4).ReadAsArray()\n",
    "\n",
    "# Нормализация данных для визуализации\n",
    "r_band = (r_band - r_band.min()) / (r_band.max() - r_band.min())\n",
    "g_band = (g_band - g_band.min()) / (g_band.max() - g_band.min())\n",
    "b_band = (b_band - b_band.min()) / (b_band.max() - b_band.min())\n",
    "nir_band = (nir_band - nir_band.min()) / (nir_band.max() - nir_band.min())\n",
    "\n",
    "# Создание композитного изображения RGB\n",
    "rgb_image = np.dstack((r_band, g_band, b_band))\n",
    "\n",
    "# Визуализация каналов и композитного изображения\n",
    "fig, axs = plt.subplots(2, 2, figsize=(10, 10))\n",
    "\n",
    "axs[0, 0].imshow(r_band, cmap='Reds')\n",
    "axs[0, 0].set_title('Red Channel')\n",
    "axs[0, 0].axis('off')\n",
    "\n",
    "axs[0, 1].imshow(g_band, cmap='Greens')\n",
    "axs[0, 1].set_title('Green Channel')\n",
    "axs[0, 1].axis('off')\n",
    "\n",
    "axs[1, 0].imshow(b_band, cmap='Blues')\n",
    "axs[1, 0].set_title('Blue Channel')\n",
    "axs[1, 0].axis('off')\n",
    "\n",
    "axs[1, 1].imshow(rgb_image)\n",
    "axs[1, 1].set_title('RGB Composite')\n",
    "axs[1, 1].axis('off')\n",
    "\n",
    "plt.tight_layout()\n",
    "plt.show()\n"
   ]
  },
  {
   "cell_type": "markdown",
   "metadata": {},
   "source": [
    "## Совмещение изображений\n"
   ]
  },
  {
   "cell_type": "code",
   "execution_count": null,
   "metadata": {},
   "outputs": [],
   "source": []
  },
  {
   "cell_type": "markdown",
   "metadata": {},
   "source": [
    "## Вычисление координат углов"
   ]
  },
  {
   "cell_type": "code",
   "execution_count": null,
   "metadata": {},
   "outputs": [],
   "source": []
  },
  {
   "cell_type": "markdown",
   "metadata": {},
   "source": [
    "## Конвертация координат"
   ]
  },
  {
   "cell_type": "code",
   "execution_count": null,
   "metadata": {},
   "outputs": [],
   "source": []
  },
  {
   "cell_type": "markdown",
   "metadata": {},
   "source": [
    "## Сохранение результатов"
   ]
  },
  {
   "cell_type": "code",
   "execution_count": null,
   "metadata": {},
   "outputs": [],
   "source": []
  },
  {
   "cell_type": "markdown",
   "metadata": {},
   "source": []
  },
  {
   "cell_type": "markdown",
   "metadata": {},
   "source": []
  }
 ],
 "metadata": {
  "kernelspec": {
   "display_name": "base",
   "language": "python",
   "name": "python3"
  },
  "language_info": {
   "codemirror_mode": {
    "name": "ipython",
    "version": 3
   },
   "file_extension": ".py",
   "mimetype": "text/x-python",
   "name": "python",
   "nbconvert_exporter": "python",
   "pygments_lexer": "ipython3",
   "version": "3.11.6"
  }
 },
 "nbformat": 4,
 "nbformat_minor": 2
}
